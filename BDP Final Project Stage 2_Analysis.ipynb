{
 "cells": [
  {
   "cell_type": "markdown",
   "metadata": {},
   "source": [
    "# Final Project\n",
    "\n",
    "Big Data Platforms </br>Nic Carlson"
   ]
  },
  {
   "cell_type": "code",
   "execution_count": 1,
   "metadata": {},
   "outputs": [
    {
     "data": {
      "text/plain": [
       "'Mon, 15 March 2021 19:27:54'"
      ]
     },
     "execution_count": 1,
     "metadata": {},
     "output_type": "execute_result"
    }
   ],
   "source": [
    "# Date notebook was last run\n",
    "import datetime\n",
    "import pytz\n",
    "\n",
    "datetime.datetime.now(pytz.timezone('US/Central')).strftime(\"%a, %d %B %Y %H:%M:%S\")"
   ]
  },
  {
   "cell_type": "markdown",
   "metadata": {},
   "source": [
    "## Setup environment, import data that was pulled via Spark and cleaned in Alteryx"
   ]
  },
  {
   "cell_type": "code",
   "execution_count": 2,
   "metadata": {},
   "outputs": [
    {
     "name": "stderr",
     "output_type": "stream",
     "text": [
      "[nltk_data] Downloading package stopwords to C:\\Users\\carlson\n",
      "[nltk_data]     nic\\AppData\\Roaming\\nltk_data...\n",
      "[nltk_data]   Package stopwords is already up-to-date!\n"
     ]
    }
   ],
   "source": [
    "import pandas as pd\n",
    "import numpy as np\n",
    "import nltk\n",
    "from nltk.corpus import stopwords\n",
    "nltk.download('stopwords')\n",
    "from itertools import compress \n",
    "import seaborn as sns\n",
    "import matplotlib.pyplot as plt\n",
    "pd.set_option('display.max_colwidth', None)\n",
    "pd.reset_option('display.max_rows')"
   ]
  },
  {
   "cell_type": "code",
   "execution_count": 3,
   "metadata": {},
   "outputs": [
    {
     "name": "stderr",
     "output_type": "stream",
     "text": [
      "<string>:2: DtypeWarning: Columns (0,9,10,11,16) have mixed types.Specify dtype option on import or set low_memory=False.\n"
     ]
    },
    {
     "name": "stdout",
     "output_type": "stream",
     "text": [
      "Wall time: 50.1 s\n"
     ]
    }
   ],
   "source": [
    "## So I had to import it using pandas then convert it to a spark DF\n",
    "%time dfPandas = pd.read_csv('tweets_all.csv',lineterminator='\\r')"
   ]
  },
  {
   "cell_type": "code",
   "execution_count": 138,
   "metadata": {},
   "outputs": [],
   "source": [
    "# Protecting original df to avoid having to re-import\n",
    "df = dfPandas"
   ]
  },
  {
   "cell_type": "code",
   "execution_count": 30,
   "metadata": {
    "scrolled": true
   },
   "outputs": [
    {
     "data": {
      "text/html": [
       "<div>\n",
       "<style scoped>\n",
       "    .dataframe tbody tr th:only-of-type {\n",
       "        vertical-align: middle;\n",
       "    }\n",
       "\n",
       "    .dataframe tbody tr th {\n",
       "        vertical-align: top;\n",
       "    }\n",
       "\n",
       "    .dataframe thead th {\n",
       "        text-align: right;\n",
       "    }\n",
       "</style>\n",
       "<table border=\"1\" class=\"dataframe\">\n",
       "  <thead>\n",
       "    <tr style=\"text-align: right;\">\n",
       "      <th></th>\n",
       "      <th>user_id</th>\n",
       "      <th>friends_count</th>\n",
       "      <th>user_location</th>\n",
       "      <th>user_name</th>\n",
       "      <th>user_screen_name</th>\n",
       "      <th>user_created_at</th>\n",
       "      <th>user_created_at_date</th>\n",
       "      <th>description</th>\n",
       "      <th>favourites_count</th>\n",
       "      <th>user_followers_count</th>\n",
       "      <th>...</th>\n",
       "      <th>tweet_lang</th>\n",
       "      <th>retweeted_count</th>\n",
       "      <th>retweet_created_at</th>\n",
       "      <th>retweet_created_at_date</th>\n",
       "      <th>retweet_lag_minutes</th>\n",
       "      <th>retweeted_status_followers_count</th>\n",
       "      <th>retweet_user_name</th>\n",
       "      <th>retweet_user_location</th>\n",
       "      <th>length_of_text</th>\n",
       "      <th>School</th>\n",
       "    </tr>\n",
       "  </thead>\n",
       "  <tbody>\n",
       "    <tr>\n",
       "      <th>0</th>\n",
       "      <td>\\n741067300866916352</td>\n",
       "      <td>2076.0</td>\n",
       "      <td>San Francisco, CA</td>\n",
       "      <td>Nathan Mannas</td>\n",
       "      <td>ncMannas</td>\n",
       "      <td>2016-06-10 00:39:47</td>\n",
       "      <td>2016-06-10</td>\n",
       "      <td>Food, the arts, sports and tech. A new account, a fresh start.</td>\n",
       "      <td>12343.0</td>\n",
       "      <td>1260</td>\n",
       "      <td>...</td>\n",
       "      <td>en</td>\n",
       "      <td>50</td>\n",
       "      <td>2017-06-22 17:41:07</td>\n",
       "      <td>2017-06-22</td>\n",
       "      <td>341.0</td>\n",
       "      <td>140549.0</td>\n",
       "      <td>History in Moments</td>\n",
       "      <td>NaN</td>\n",
       "      <td>85.0</td>\n",
       "      <td>Harvard</td>\n",
       "    </tr>\n",
       "    <tr>\n",
       "      <th>1</th>\n",
       "      <td>\\n22101365</td>\n",
       "      <td>1136.0</td>\n",
       "      <td>Houston, TX 77081, United Stat</td>\n",
       "      <td>MarVer</td>\n",
       "      <td>mlv1313</td>\n",
       "      <td>2009-02-27 03:21:06</td>\n",
       "      <td>2009-02-27</td>\n",
       "      <td>Travel junkie. Master's degree in social work. Nasty Woman &amp; Fighter for human rights #Resistance #PSR. Flip the House   Proud snowflake...Winter is coming 2018</td>\n",
       "      <td>5767.0</td>\n",
       "      <td>400</td>\n",
       "      <td>...</td>\n",
       "      <td>en</td>\n",
       "      <td>7</td>\n",
       "      <td>2017-06-22 22:38:28</td>\n",
       "      <td>2017-06-22</td>\n",
       "      <td>46.0</td>\n",
       "      <td>415880.0</td>\n",
       "      <td>Dave Weasel</td>\n",
       "      <td>Los Angeles, California</td>\n",
       "      <td>132.0</td>\n",
       "      <td>Harvard</td>\n",
       "    </tr>\n",
       "  </tbody>\n",
       "</table>\n",
       "<p>2 rows × 25 columns</p>\n",
       "</div>"
      ],
      "text/plain": [
       "                user_id  friends_count                   user_location  \\\n",
       "0  \\n741067300866916352         2076.0               San Francisco, CA   \n",
       "1            \\n22101365         1136.0  Houston, TX 77081, United Stat   \n",
       "\n",
       "       user_name user_screen_name      user_created_at user_created_at_date  \\\n",
       "0  Nathan Mannas         ncMannas  2016-06-10 00:39:47           2016-06-10   \n",
       "1         MarVer          mlv1313  2009-02-27 03:21:06           2009-02-27   \n",
       "\n",
       "                                                                                                                                                        description  \\\n",
       "0                                                                                                    Food, the arts, sports and tech. A new account, a fresh start.   \n",
       "1  Travel junkie. Master's degree in social work. Nasty Woman & Fighter for human rights #Resistance #PSR. Flip the House   Proud snowflake...Winter is coming 2018   \n",
       "\n",
       "   favourites_count user_followers_count  ... tweet_lang retweeted_count  \\\n",
       "0           12343.0                 1260  ...         en              50   \n",
       "1            5767.0                  400  ...         en               7   \n",
       "\n",
       "    retweet_created_at retweet_created_at_date retweet_lag_minutes  \\\n",
       "0  2017-06-22 17:41:07              2017-06-22               341.0   \n",
       "1  2017-06-22 22:38:28              2017-06-22                46.0   \n",
       "\n",
       "  retweeted_status_followers_count   retweet_user_name  \\\n",
       "0                         140549.0  History in Moments   \n",
       "1                         415880.0         Dave Weasel   \n",
       "\n",
       "     retweet_user_location length_of_text   School  \n",
       "0                      NaN           85.0  Harvard  \n",
       "1  Los Angeles, California          132.0  Harvard  \n",
       "\n",
       "[2 rows x 25 columns]"
      ]
     },
     "execution_count": 30,
     "metadata": {},
     "output_type": "execute_result"
    }
   ],
   "source": [
    "df.head(2)"
   ]
  },
  {
   "cell_type": "markdown",
   "metadata": {},
   "source": [
    "## A little additional data cleaning, EDA, and validation the data came in correctly (some already done in Alteryx)"
   ]
  },
  {
   "cell_type": "markdown",
   "metadata": {},
   "source": [
    "#### Remove a few messy rows caused by CSV formatting issues"
   ]
  },
  {
   "cell_type": "markdown",
   "metadata": {},
   "source": [
    "##### User counts (~25 records)"
   ]
  },
  {
   "cell_type": "code",
   "execution_count": 140,
   "metadata": {},
   "outputs": [],
   "source": [
    "# Cleaning up ~25 dirty records\n",
    "df = df[df.user_followers_count != 'Wed Dec 13 01:47:05 +0000 2017']\n",
    "df = df[df.retweeted_count != \"Jason O'Toole\"]"
   ]
  },
  {
   "cell_type": "markdown",
   "metadata": {},
   "source": [
    "#### Convert date and extract hour"
   ]
  },
  {
   "cell_type": "code",
   "execution_count": 131,
   "metadata": {},
   "outputs": [
    {
     "name": "stderr",
     "output_type": "stream",
     "text": [
      "C:\\Users\\carlson nic\\AppData\\Local\\Continuum\\anaconda3\\lib\\site-packages\\ipykernel_launcher.py:4: SettingWithCopyWarning: \n",
      "A value is trying to be set on a copy of a slice from a DataFrame.\n",
      "Try using .loc[row_indexer,col_indexer] = value instead\n",
      "\n",
      "See the caveats in the documentation: https://pandas.pydata.org/pandas-docs/stable/user_guide/indexing.html#returning-a-view-versus-a-copy\n",
      "  after removing the cwd from sys.path.\n"
     ]
    }
   ],
   "source": [
    "# Converting tweet_created_at time\n",
    "\n",
    "date_parser = pd.to_datetime\n",
    "df['tweet_created_at'] = date_parser(df['tweet_created_at'])"
   ]
  },
  {
   "cell_type": "code",
   "execution_count": 132,
   "metadata": {},
   "outputs": [
    {
     "name": "stderr",
     "output_type": "stream",
     "text": [
      "C:\\Users\\carlson nic\\AppData\\Local\\Continuum\\anaconda3\\lib\\site-packages\\ipykernel_launcher.py:3: SettingWithCopyWarning: \n",
      "A value is trying to be set on a copy of a slice from a DataFrame.\n",
      "Try using .loc[row_indexer,col_indexer] = value instead\n",
      "\n",
      "See the caveats in the documentation: https://pandas.pydata.org/pandas-docs/stable/user_guide/indexing.html#returning-a-view-versus-a-copy\n",
      "  This is separate from the ipykernel package so we can avoid doing imports until\n"
     ]
    }
   ],
   "source": [
    "# Extracting hour into new column\n",
    "\n",
    "df['tweet_created_at_hour'] = df['tweet_created_at'].dt.hour"
   ]
  },
  {
   "cell_type": "markdown",
   "metadata": {},
   "source": [
    "#### Need to change NaN retweeted_counts to 0"
   ]
  },
  {
   "cell_type": "code",
   "execution_count": 141,
   "metadata": {},
   "outputs": [
    {
     "name": "stdout",
     "output_type": "stream",
     "text": [
      "              user_id  friends_count             user_location  \\\n",
      "5         \\n441214858         1077.0  Eppur si muove-Keith Law   \n",
      "7         \\n441214858         1077.0  Eppur si muove-Keith Law   \n",
      "17        \\n223709253          419.0                slamcouver   \n",
      "18        \\n465545296          164.0                        NY   \n",
      "23       \\n3302153561         2805.0        Christiansburg, VA   \n",
      "...               ...            ...                       ...   \n",
      "5594062  \\n2429718336         1469.0       West Palm Beach, FL   \n",
      "5594065  \\n1876704955          340.0               Latrobe, PA   \n",
      "5594066   \\n226721962          150.0                    Madrid   \n",
      "5594072  \\n1252806792         2870.0                 Worldwide   \n",
      "5594073            \\n            NaN                       NaN   \n",
      "\n",
      "                   user_name user_screen_name      user_created_at  \\\n",
      "5            Jerome McCollom  LetHumanismRing  2011-12-19 21:26:06   \n",
      "7            Jerome McCollom  LetHumanismRing  2011-12-19 21:26:06   \n",
      "17       hiroyuki \"j.\" sakai      swimmer_gay  2010-12-07 03:35:35   \n",
      "18                Josh Drean        JoshDrean  2012-01-16 13:34:29   \n",
      "23                      Adam  AmericanSniperG  2015-05-28 20:55:30   \n",
      "...                      ...              ...                  ...   \n",
      "5594062     Digital Resource   DigitlResource  2014-04-06 02:07:36   \n",
      "5594065   Product Evaluation       PEStesting  2013-09-17 19:42:16   \n",
      "5594066     J. Julian Cubero     juliancubero  2010-12-14 22:24:48   \n",
      "5594072            Twistools     twistools_en  2013-03-08 21:54:36   \n",
      "5594073                  NaN              NaN                  NaN   \n",
      "\n",
      "        user_created_at_date  \\\n",
      "5                 2011-12-19   \n",
      "7                 2011-12-19   \n",
      "17                2010-12-07   \n",
      "18                2012-01-16   \n",
      "23                2015-05-28   \n",
      "...                      ...   \n",
      "5594062           2014-04-06   \n",
      "5594065           2013-09-17   \n",
      "5594066           2010-12-14   \n",
      "5594072           2013-03-08   \n",
      "5594073                  NaN   \n",
      "\n",
      "                                                                                                                                                             description  \\\n",
      "5                                                    #Humanist, #Atheist, Social #Libertarian.. interested in #Reason more than Dogma. Also, let's end the Damn #DrugWar   \n",
      "7                                                    #Humanist, #Atheist, Social #Libertarian.. interested in #Reason more than Dogma. Also, let's end the Damn #DrugWar   \n",
      "17                                                                    bombarding the headquarters. not necessarily beautiful but mutated. editor in chief @CosmoMongolia   \n",
      "18                                Anti-Bullying Youth Speaker, beatboxer, breakdancer, I/O psychologist, former cougar (literally).    \\n      #defeatbullyingpositively   \n",
      "23                                                  @UFC @UFCONFOX @AmericanSniper @WorkaholicsCC  Tosh.0, @GhostAdventures, @LoneSurvivor @truTVjokers   @JohnWickMovie   \n",
      "...                                                                                                                                                                  ...   \n",
      "5594062  Internet marketing specialists in SEO, Website Design, Social Media, PPC, Facebook Advertising, Managed Live Chat & More! Your resource for everything digital.   \n",
      "5594065                         PES proudly serves customers with exceptional, personalized response to their testing needs, and provides expedient turnaround. #testing   \n",
      "5594066                                                                                                                 Lead Economist of Global Scenarios @BBVAResearch   \n",
      "5594072                                                                                                The best #marketing advices on Twitter. Follow us and get famous!   \n",
      "5594073                                                                                                                                                              NaN   \n",
      "\n",
      "         favourites_count user_followers_count  ... tweet_lang  \\\n",
      "5                  2618.0                 2186  ...         en   \n",
      "7                  2618.0                 2186  ...         en   \n",
      "17                13072.0                  196  ...         en   \n",
      "18                  133.0                 1075  ...         en   \n",
      "23               142543.0                 3767  ...         en   \n",
      "...                   ...                  ...  ...        ...   \n",
      "5594062              98.0                 1069  ...         en   \n",
      "5594065             644.0                   95  ...         en   \n",
      "5594066              73.0                  744  ...         en   \n",
      "5594072            1918.0               141964  ...         en   \n",
      "5594073               NaN                  NaN  ...        NaN   \n",
      "\n",
      "        retweeted_count retweet_created_at retweet_created_at_date  \\\n",
      "5                   NaN                NaN                     NaN   \n",
      "7                   NaN                NaN                     NaN   \n",
      "17                  NaN                NaN                     NaN   \n",
      "18                  NaN                NaN                     NaN   \n",
      "23                  NaN                NaN                     NaN   \n",
      "...                 ...                ...                     ...   \n",
      "5594062             NaN                NaN                     NaN   \n",
      "5594065             NaN                NaN                     NaN   \n",
      "5594066             NaN                NaN                     NaN   \n",
      "5594072             NaN                NaN                     NaN   \n",
      "5594073             NaN                NaN                     NaN   \n",
      "\n",
      "        retweet_lag_minutes retweeted_status_followers_count  \\\n",
      "5                       NaN                              NaN   \n",
      "7                       NaN                              NaN   \n",
      "17                      NaN                              NaN   \n",
      "18                      NaN                              NaN   \n",
      "23                      NaN                              NaN   \n",
      "...                     ...                              ...   \n",
      "5594062                 NaN                              NaN   \n",
      "5594065                 NaN                              NaN   \n",
      "5594066                 NaN                              NaN   \n",
      "5594072                 NaN                              NaN   \n",
      "5594073                 NaN                              NaN   \n",
      "\n",
      "        retweet_user_name retweet_user_location length_of_text    School  \n",
      "5                     NaN                   NaN          140.0   Harvard  \n",
      "7                     NaN                   NaN          140.0   Harvard  \n",
      "17                    NaN                   NaN          111.0   Harvard  \n",
      "18                    NaN                   NaN           76.0   Harvard  \n",
      "23                    NaN                   NaN          139.0   Harvard  \n",
      "...                   ...                   ...            ...       ...  \n",
      "5594062               NaN                   NaN          140.0  uChicago  \n",
      "5594065               NaN                   NaN          140.0  uChicago  \n",
      "5594066               NaN                   NaN          140.0  uChicago  \n",
      "5594072               NaN                   NaN          109.0  uChicago  \n",
      "5594073               NaN                   NaN            NaN       NaN  \n",
      "\n",
      "[1523863 rows x 25 columns]\n"
     ]
    }
   ],
   "source": [
    "print (df[pd.to_numeric(df['retweeted_count'], errors='coerce').isnull()])"
   ]
  },
  {
   "cell_type": "code",
   "execution_count": 142,
   "metadata": {},
   "outputs": [
    {
     "name": "stdout",
     "output_type": "stream",
     "text": [
      "BEFORE: True\n"
     ]
    }
   ],
   "source": [
    "print('BEFORE:', df['retweeted_count'].isnull().values.any())"
   ]
  },
  {
   "cell_type": "code",
   "execution_count": 143,
   "metadata": {},
   "outputs": [
    {
     "name": "stdout",
     "output_type": "stream",
     "text": [
      "AFTER: False\n"
     ]
    }
   ],
   "source": [
    "# fillna function\n",
    "df['retweeted_count'].fillna(0, inplace=True)\n",
    "\n",
    "print('AFTER:',df['retweeted_count'].isnull().values.any())"
   ]
  },
  {
   "cell_type": "code",
   "execution_count": 148,
   "metadata": {},
   "outputs": [
    {
     "data": {
      "text/plain": [
       "user_id                              object\n",
       "friends_count                       float64\n",
       "user_location                        object\n",
       "user_name                            object\n",
       "user_screen_name                     object\n",
       "user_created_at                      object\n",
       "user_created_at_date                 object\n",
       "description                          object\n",
       "favourites_count                    float64\n",
       "user_followers_count                 object\n",
       "tweet_favorite_count                 object\n",
       "tweet_id                             object\n",
       "tweet_created_at                     object\n",
       "tweet_created_at_date                object\n",
       "text                                 object\n",
       "tweet_lang                           object\n",
       "retweeted_count                       int32\n",
       "retweet_created_at                   object\n",
       "retweet_created_at_date              object\n",
       "retweet_lag_minutes                 float64\n",
       "retweeted_status_followers_count    float64\n",
       "retweet_user_name                    object\n",
       "retweet_user_location                object\n",
       "length_of_text                      float64\n",
       "School                               object\n",
       "dtype: object"
      ]
     },
     "execution_count": 148,
     "metadata": {},
     "output_type": "execute_result"
    }
   ],
   "source": [
    "df.astype({'retweeted_count': 'float'}).astype({'retweeted_count': 'int32'}).dtypes"
   ]
  },
  {
   "cell_type": "markdown",
   "metadata": {},
   "source": [
    "#### Create weighted value for tweets based on whether or not they were retweeted. 1 'point' if it's just a tweet. '2 points for retweets'"
   ]
  },
  {
   "cell_type": "code",
   "execution_count": 152,
   "metadata": {},
   "outputs": [],
   "source": [
    "df['influencer_weight'] = np.where(df['retweeted_count'] == 0, 1, 2)"
   ]
  },
  {
   "cell_type": "code",
   "execution_count": 153,
   "metadata": {},
   "outputs": [
    {
     "data": {
      "text/plain": [
       "0          2\n",
       "1          2\n",
       "2          2\n",
       "3          2\n",
       "4          2\n",
       "          ..\n",
       "5594069    2\n",
       "5594070    2\n",
       "5594071    2\n",
       "5594072    1\n",
       "5594073    1\n",
       "Name: influencer_weight, Length: 5594042, dtype: int32"
      ]
     },
     "execution_count": 153,
     "metadata": {},
     "output_type": "execute_result"
    }
   ],
   "source": [
    "df['influencer_weight']"
   ]
  },
  {
   "cell_type": "markdown",
   "metadata": {},
   "source": [
    "#### Cleanup additional NAs and then change data types"
   ]
  },
  {
   "cell_type": "code",
   "execution_count": 157,
   "metadata": {
    "scrolled": false
   },
   "outputs": [
    {
     "data": {
      "text/plain": [
       "user_id                              object\n",
       "friends_count                       float64\n",
       "user_location                        object\n",
       "user_name                            object\n",
       "user_screen_name                     object\n",
       "user_created_at                      object\n",
       "user_created_at_date                 object\n",
       "description                          object\n",
       "favourites_count                    float64\n",
       "user_followers_count                 object\n",
       "tweet_favorite_count                 object\n",
       "tweet_id                             object\n",
       "tweet_created_at                     object\n",
       "tweet_created_at_date                object\n",
       "text                                 object\n",
       "tweet_lang                           object\n",
       "retweeted_count                       int32\n",
       "retweet_created_at                   object\n",
       "retweet_created_at_date              object\n",
       "retweet_lag_minutes                 float64\n",
       "retweeted_status_followers_count    float64\n",
       "retweet_user_name                    object\n",
       "retweet_user_location                object\n",
       "length_of_text                      float64\n",
       "School                               object\n",
       "influencer_weight                     int32\n",
       "dtype: object"
      ]
     },
     "execution_count": 157,
     "metadata": {},
     "output_type": "execute_result"
    }
   ],
   "source": [
    "df.astype({'retweeted_count': 'float', 'influencer_weight': 'float'}).astype({'retweeted_count': 'int32', 'influencer_weight': 'int32'}).dtypes"
   ]
  },
  {
   "cell_type": "code",
   "execution_count": 161,
   "metadata": {},
   "outputs": [
    {
     "data": {
      "text/plain": [
       "<AxesSubplot:>"
      ]
     },
     "execution_count": 161,
     "metadata": {},
     "output_type": "execute_result"
    },
    {
     "data": {
      "image/png": "[encoded data removed]",
      "text/plain": [
       "<Figure size 432x288 with 1 Axes>"
      ]
     },
     "metadata": {
      "needs_background": "light"
     },
     "output_type": "display_data"
    }
   ],
   "source": [
    "df['influencer_weight'].hist()"
   ]
  },
  {
   "cell_type": "markdown",
   "metadata": {},
   "source": [
    "#### Validate number of records"
   ]
  },
  {
   "cell_type": "code",
   "execution_count": 162,
   "metadata": {},
   "outputs": [
    {
     "data": {
      "text/plain": [
       "5594041"
      ]
     },
     "execution_count": 162,
     "metadata": {},
     "output_type": "execute_result"
    }
   ],
   "source": [
    "# 5.6M total records now, down from \n",
    "df[\"School\"].count()"
   ]
  },
  {
   "cell_type": "code",
   "execution_count": 13,
   "metadata": {},
   "outputs": [
    {
     "data": {
      "text/plain": [
       "0.011188146"
      ]
     },
     "execution_count": 13,
     "metadata": {},
     "output_type": "execute_result"
    }
   ],
   "source": [
    "# This represents just over 1% of total records\n",
    "5594073/500000000"
   ]
  },
  {
   "cell_type": "code",
   "execution_count": 163,
   "metadata": {},
   "outputs": [
    {
     "data": {
      "text/plain": [
       "<AxesSubplot:>"
      ]
     },
     "execution_count": 163,
     "metadata": {},
     "output_type": "execute_result"
    },
    {
     "data": {
      "image/png": "[encoded data removed]",
      "text/plain": [
       "<Figure size 432x288 with 1 Axes>"
      ]
     },
     "metadata": {
      "needs_background": "light"
     },
     "output_type": "display_data"
    }
   ],
   "source": [
    "# All schools have at least 500k records\n",
    "df[\"School\"].hist()"
   ]
  },
  {
   "cell_type": "markdown",
   "metadata": {},
   "source": [
    "## Identify the most prolific / influential Twitterers:"
   ]
  },
  {
   "cell_type": "code",
   "execution_count": 81,
   "metadata": {},
   "outputs": [
    {
     "data": {
      "text/plain": [
       "user_screen_name\n",
       "NSUDemonsFans      2507\n",
       "kinibottommintd    1689\n",
       "mba_buddy          1032\n",
       "Sports_Journal     1020\n",
       "Andrew_weather      934\n",
       "cbhhughes21         860\n",
       "grhluna24           836\n",
       "BourbonStreet2      758\n",
       "amcneer             739\n",
       "SportsKT            732\n",
       "dtype: int64"
      ]
     },
     "execution_count": 81,
     "metadata": {},
     "output_type": "execute_result"
    }
   ],
   "source": [
    "# A simple count of tweets by user screen name overall\n",
    "df.value_counts('user_screen_name')[:10]"
   ]
  },
  {
   "cell_type": "markdown",
   "metadata": {},
   "source": [
    "### 1) uChicago by message volume and sum of retweets and weighted (RetweedTweet = 1, NonRetweetedTweet = .5)"
   ]
  },
  {
   "cell_type": "code",
   "execution_count": 84,
   "metadata": {},
   "outputs": [
    {
     "data": {
      "text/html": [
       "<div>\n",
       "<style scoped>\n",
       "    .dataframe tbody tr th:only-of-type {\n",
       "        vertical-align: middle;\n",
       "    }\n",
       "\n",
       "    .dataframe tbody tr th {\n",
       "        vertical-align: top;\n",
       "    }\n",
       "\n",
       "    .dataframe thead th {\n",
       "        text-align: right;\n",
       "    }\n",
       "</style>\n",
       "<table border=\"1\" class=\"dataframe\">\n",
       "  <thead>\n",
       "    <tr style=\"text-align: right;\">\n",
       "      <th></th>\n",
       "      <th>School</th>\n",
       "      <th>user_screen_name</th>\n",
       "      <th>user_id</th>\n",
       "    </tr>\n",
       "  </thead>\n",
       "  <tbody>\n",
       "    <tr>\n",
       "      <th>2604126</th>\n",
       "      <td>uChicago</td>\n",
       "      <td>chicagoboothrev</td>\n",
       "      <td>639</td>\n",
       "    </tr>\n",
       "    <tr>\n",
       "      <th>2728565</th>\n",
       "      <td>uChicago</td>\n",
       "      <td>uchicagogsu</td>\n",
       "      <td>457</td>\n",
       "    </tr>\n",
       "    <tr>\n",
       "      <th>2430328</th>\n",
       "      <td>uChicago</td>\n",
       "      <td>AlexBender7</td>\n",
       "      <td>392</td>\n",
       "    </tr>\n",
       "    <tr>\n",
       "      <th>2704523</th>\n",
       "      <td>uChicago</td>\n",
       "      <td>ruthpaget</td>\n",
       "      <td>359</td>\n",
       "    </tr>\n",
       "    <tr>\n",
       "      <th>2682607</th>\n",
       "      <td>uChicago</td>\n",
       "      <td>n8taki</td>\n",
       "      <td>291</td>\n",
       "    </tr>\n",
       "  </tbody>\n",
       "</table>\n",
       "</div>"
      ],
      "text/plain": [
       "           School user_screen_name  user_id\n",
       "2604126  uChicago  chicagoboothrev      639\n",
       "2728565  uChicago      uchicagogsu      457\n",
       "2430328  uChicago      AlexBender7      392\n",
       "2704523  uChicago        ruthpaget      359\n",
       "2682607  uChicago           n8taki      291"
      ]
     },
     "execution_count": 84,
     "metadata": {},
     "output_type": "execute_result"
    }
   ],
   "source": [
    "# uChicago top twitterer by volume\n",
    "dfSchoolGrouping = df.groupby(['School', 'user_screen_name'], as_index=False)['user_id'].count()\n",
    "uChicagoTweeters = dfSchoolGrouping[dfSchoolGrouping['School'].str.contains(\"uChicago\")].sort_values(by='user_id', ascending=False)\n",
    "uChicagoTweeters.head()"
   ]
  },
  {
   "cell_type": "code",
   "execution_count": 70,
   "metadata": {
    "scrolled": true
   },
   "outputs": [
    {
     "data": {
      "text/html": [
       "<div>\n",
       "<style scoped>\n",
       "    .dataframe tbody tr th:only-of-type {\n",
       "        vertical-align: middle;\n",
       "    }\n",
       "\n",
       "    .dataframe tbody tr th {\n",
       "        vertical-align: top;\n",
       "    }\n",
       "\n",
       "    .dataframe thead th {\n",
       "        text-align: right;\n",
       "    }\n",
       "</style>\n",
       "<table border=\"1\" class=\"dataframe\">\n",
       "  <thead>\n",
       "    <tr style=\"text-align: right;\">\n",
       "      <th></th>\n",
       "      <th>School</th>\n",
       "      <th>user_screen_name</th>\n",
       "      <th>retweeted_count</th>\n",
       "    </tr>\n",
       "  </thead>\n",
       "  <tbody>\n",
       "    <tr>\n",
       "      <th>2456126</th>\n",
       "      <td>uChicago</td>\n",
       "      <td>CyanFour</td>\n",
       "      <td>25502.0</td>\n",
       "    </tr>\n",
       "    <tr>\n",
       "      <th>2737412</th>\n",
       "      <td>uChicago</td>\n",
       "      <td>yiizo</td>\n",
       "      <td>24480.0</td>\n",
       "    </tr>\n",
       "    <tr>\n",
       "      <th>2722199</th>\n",
       "      <td>uChicago</td>\n",
       "      <td>the_gwalla</td>\n",
       "      <td>24437.0</td>\n",
       "    </tr>\n",
       "    <tr>\n",
       "      <th>2497639</th>\n",
       "      <td>uChicago</td>\n",
       "      <td>Katja_Thieme</td>\n",
       "      <td>24183.0</td>\n",
       "    </tr>\n",
       "    <tr>\n",
       "      <th>2570396</th>\n",
       "      <td>uChicago</td>\n",
       "      <td>YaniraaMcNeil</td>\n",
       "      <td>24064.0</td>\n",
       "    </tr>\n",
       "  </tbody>\n",
       "</table>\n",
       "</div>"
      ],
      "text/plain": [
       "           School user_screen_name  retweeted_count\n",
       "2456126  uChicago         CyanFour          25502.0\n",
       "2737412  uChicago            yiizo          24480.0\n",
       "2722199  uChicago       the_gwalla          24437.0\n",
       "2497639  uChicago     Katja_Thieme          24183.0\n",
       "2570396  uChicago    YaniraaMcNeil          24064.0"
      ]
     },
     "execution_count": 70,
     "metadata": {},
     "output_type": "execute_result"
    }
   ],
   "source": [
    "# uChicago top twitterer by total sum of retweets\n",
    "dfSchoolGrouping = df.groupby(['School', 'user_screen_name'], as_index=False)['retweeted_count'].sum()\n",
    "uChicagoRetweeters = dfSchoolGrouping[dfSchoolGrouping['School'].str.contains(\"uChicago\")].sort_values(by='retweeted_count', ascending=False)\n",
    "uChicagoRetweeters.head()"
   ]
  },
  {
   "cell_type": "code",
   "execution_count": 164,
   "metadata": {
    "scrolled": true
   },
   "outputs": [
    {
     "data": {
      "text/html": [
       "<div>\n",
       "<style scoped>\n",
       "    .dataframe tbody tr th:only-of-type {\n",
       "        vertical-align: middle;\n",
       "    }\n",
       "\n",
       "    .dataframe tbody tr th {\n",
       "        vertical-align: top;\n",
       "    }\n",
       "\n",
       "    .dataframe thead th {\n",
       "        text-align: right;\n",
       "    }\n",
       "</style>\n",
       "<table border=\"1\" class=\"dataframe\">\n",
       "  <thead>\n",
       "    <tr style=\"text-align: right;\">\n",
       "      <th></th>\n",
       "      <th>School</th>\n",
       "      <th>user_screen_name</th>\n",
       "      <th>influencer_weight</th>\n",
       "    </tr>\n",
       "  </thead>\n",
       "  <tbody>\n",
       "    <tr>\n",
       "      <th>3078411</th>\n",
       "      <td>uChicago</td>\n",
       "      <td>UChicagoMedJobs</td>\n",
       "      <td>2153</td>\n",
       "    </tr>\n",
       "    <tr>\n",
       "      <th>3131215</th>\n",
       "      <td>uChicago</td>\n",
       "      <td>chicagoboothrev</td>\n",
       "      <td>1424</td>\n",
       "    </tr>\n",
       "    <tr>\n",
       "      <th>2924500</th>\n",
       "      <td>uChicago</td>\n",
       "      <td>ChicagoMaroons</td>\n",
       "      <td>1234</td>\n",
       "    </tr>\n",
       "    <tr>\n",
       "      <th>3290571</th>\n",
       "      <td>uChicago</td>\n",
       "      <td>uchicagogsu</td>\n",
       "      <td>1128</td>\n",
       "    </tr>\n",
       "    <tr>\n",
       "      <th>2896041</th>\n",
       "      <td>uChicago</td>\n",
       "      <td>AlexBender7</td>\n",
       "      <td>785</td>\n",
       "    </tr>\n",
       "  </tbody>\n",
       "</table>\n",
       "</div>"
      ],
      "text/plain": [
       "           School user_screen_name  influencer_weight\n",
       "3078411  uChicago  UChicagoMedJobs               2153\n",
       "3131215  uChicago  chicagoboothrev               1424\n",
       "2924500  uChicago   ChicagoMaroons               1234\n",
       "3290571  uChicago      uchicagogsu               1128\n",
       "2896041  uChicago      AlexBender7                785"
      ]
     },
     "execution_count": 164,
     "metadata": {},
     "output_type": "execute_result"
    }
   ],
   "source": [
    "# uChicago top twitterer by total sum of retweets\n",
    "dfSchoolGrouping = df.groupby(['School', 'user_screen_name'], as_index=False)['influencer_weight'].sum()\n",
    "uChicagoRetweeters = dfSchoolGrouping[dfSchoolGrouping['School'].str.contains(\"uChicago\")].sort_values(by='influencer_weight', ascending=False)\n",
    "uChicagoRetweeters.head()"
   ]
  },
  {
   "cell_type": "markdown",
   "metadata": {},
   "source": [
    "### 1) Harvard by message volume and sum of retweets"
   ]
  },
  {
   "cell_type": "code",
   "execution_count": 85,
   "metadata": {},
   "outputs": [
    {
     "data": {
      "text/html": [
       "<div>\n",
       "<style scoped>\n",
       "    .dataframe tbody tr th:only-of-type {\n",
       "        vertical-align: middle;\n",
       "    }\n",
       "\n",
       "    .dataframe tbody tr th {\n",
       "        vertical-align: top;\n",
       "    }\n",
       "\n",
       "    .dataframe thead th {\n",
       "        text-align: right;\n",
       "    }\n",
       "</style>\n",
       "<table border=\"1\" class=\"dataframe\">\n",
       "  <thead>\n",
       "    <tr style=\"text-align: right;\">\n",
       "      <th></th>\n",
       "      <th>School</th>\n",
       "      <th>user_screen_name</th>\n",
       "      <th>user_id</th>\n",
       "    </tr>\n",
       "  </thead>\n",
       "  <tbody>\n",
       "    <tr>\n",
       "      <th>1109318</th>\n",
       "      <td>Harvard</td>\n",
       "      <td>mba_buddy</td>\n",
       "      <td>810</td>\n",
       "    </tr>\n",
       "    <tr>\n",
       "      <th>913321</th>\n",
       "      <td>Harvard</td>\n",
       "      <td>grhluna24</td>\n",
       "      <td>803</td>\n",
       "    </tr>\n",
       "    <tr>\n",
       "      <th>94135</th>\n",
       "      <td>Harvard</td>\n",
       "      <td>BourbonStreet2</td>\n",
       "      <td>758</td>\n",
       "    </tr>\n",
       "    <tr>\n",
       "      <th>203356</th>\n",
       "      <td>Harvard</td>\n",
       "      <td>FrasierHarry</td>\n",
       "      <td>550</td>\n",
       "    </tr>\n",
       "    <tr>\n",
       "      <th>607486</th>\n",
       "      <td>Harvard</td>\n",
       "      <td>WaterPolo0714</td>\n",
       "      <td>206</td>\n",
       "    </tr>\n",
       "  </tbody>\n",
       "</table>\n",
       "</div>"
      ],
      "text/plain": [
       "          School user_screen_name  user_id\n",
       "1109318  Harvard        mba_buddy      810\n",
       "913321   Harvard        grhluna24      803\n",
       "94135    Harvard   BourbonStreet2      758\n",
       "203356   Harvard     FrasierHarry      550\n",
       "607486   Harvard    WaterPolo0714      206"
      ]
     },
     "execution_count": 85,
     "metadata": {},
     "output_type": "execute_result"
    }
   ],
   "source": [
    "# harvard top twitterer by volume\n",
    "dfSchoolGrouping = df.groupby(['School', 'user_screen_name'], as_index=False)['user_id'].count()\n",
    "harvardTweeters = dfSchoolGrouping[dfSchoolGrouping['School'].str.contains(\"Harvard\")].sort_values(by='user_id', ascending=False)\n",
    "harvardTweeters.head()"
   ]
  },
  {
   "cell_type": "code",
   "execution_count": 69,
   "metadata": {
    "scrolled": true
   },
   "outputs": [
    {
     "data": {
      "text/html": [
       "<div>\n",
       "<style scoped>\n",
       "    .dataframe tbody tr th:only-of-type {\n",
       "        vertical-align: middle;\n",
       "    }\n",
       "\n",
       "    .dataframe tbody tr th {\n",
       "        vertical-align: top;\n",
       "    }\n",
       "\n",
       "    .dataframe thead th {\n",
       "        text-align: right;\n",
       "    }\n",
       "</style>\n",
       "<table border=\"1\" class=\"dataframe\">\n",
       "  <thead>\n",
       "    <tr style=\"text-align: right;\">\n",
       "      <th></th>\n",
       "      <th>School</th>\n",
       "      <th>user_screen_name</th>\n",
       "      <th>retweeted_count</th>\n",
       "    </tr>\n",
       "  </thead>\n",
       "  <tbody>\n",
       "    <tr>\n",
       "      <th>949554</th>\n",
       "      <td>Harvard</td>\n",
       "      <td>idekchia</td>\n",
       "      <td>688240.0</td>\n",
       "    </tr>\n",
       "    <tr>\n",
       "      <th>657733</th>\n",
       "      <td>Harvard</td>\n",
       "      <td>_nnajib</td>\n",
       "      <td>632280.0</td>\n",
       "    </tr>\n",
       "    <tr>\n",
       "      <th>125007</th>\n",
       "      <td>Harvard</td>\n",
       "      <td>Christian_B56</td>\n",
       "      <td>603869.0</td>\n",
       "    </tr>\n",
       "    <tr>\n",
       "      <th>1181752</th>\n",
       "      <td>Harvard</td>\n",
       "      <td>olanaaaaa</td>\n",
       "      <td>589366.0</td>\n",
       "    </tr>\n",
       "    <tr>\n",
       "      <th>493518</th>\n",
       "      <td>Harvard</td>\n",
       "      <td>Rosenchild</td>\n",
       "      <td>544043.0</td>\n",
       "    </tr>\n",
       "  </tbody>\n",
       "</table>\n",
       "</div>"
      ],
      "text/plain": [
       "          School user_screen_name  retweeted_count\n",
       "949554   Harvard         idekchia         688240.0\n",
       "657733   Harvard          _nnajib         632280.0\n",
       "125007   Harvard    Christian_B56         603869.0\n",
       "1181752  Harvard        olanaaaaa         589366.0\n",
       "493518   Harvard       Rosenchild         544043.0"
      ]
     },
     "execution_count": 69,
     "metadata": {},
     "output_type": "execute_result"
    }
   ],
   "source": [
    "# Harvard top twitterer by total sum of retweets\n",
    "dfSchoolGrouping = df.groupby(['School', 'user_screen_name'], as_index=False)['retweeted_count'].sum()\n",
    "harvardRetweeters = dfSchoolGrouping[dfSchoolGrouping['School'].str.contains(\"Harvard\")].sort_values(by='retweeted_count', ascending=False)\n",
    "harvardRetweeters.head()"
   ]
  },
  {
   "cell_type": "code",
   "execution_count": 165,
   "metadata": {
    "scrolled": true
   },
   "outputs": [
    {
     "data": {
      "text/html": [
       "<div>\n",
       "<style scoped>\n",
       "    .dataframe tbody tr th:only-of-type {\n",
       "        vertical-align: middle;\n",
       "    }\n",
       "\n",
       "    .dataframe tbody tr th {\n",
       "        vertical-align: top;\n",
       "    }\n",
       "\n",
       "    .dataframe thead th {\n",
       "        text-align: right;\n",
       "    }\n",
       "</style>\n",
       "<table border=\"1\" class=\"dataframe\">\n",
       "  <thead>\n",
       "    <tr style=\"text-align: right;\">\n",
       "      <th></th>\n",
       "      <th>School</th>\n",
       "      <th>user_screen_name</th>\n",
       "      <th>influencer_weight</th>\n",
       "    </tr>\n",
       "  </thead>\n",
       "  <tbody>\n",
       "    <tr>\n",
       "      <th>267118</th>\n",
       "      <td>Harvard</td>\n",
       "      <td>HarvardStudyBot</td>\n",
       "      <td>2272</td>\n",
       "    </tr>\n",
       "    <tr>\n",
       "      <th>1185081</th>\n",
       "      <td>Harvard</td>\n",
       "      <td>kryssew</td>\n",
       "      <td>1915</td>\n",
       "    </tr>\n",
       "    <tr>\n",
       "      <th>892016</th>\n",
       "      <td>Harvard</td>\n",
       "      <td>cecesoojung</td>\n",
       "      <td>1849</td>\n",
       "    </tr>\n",
       "    <tr>\n",
       "      <th>1253858</th>\n",
       "      <td>Harvard</td>\n",
       "      <td>mba_buddy</td>\n",
       "      <td>1620</td>\n",
       "    </tr>\n",
       "    <tr>\n",
       "      <th>1037635</th>\n",
       "      <td>Harvard</td>\n",
       "      <td>grhluna24</td>\n",
       "      <td>1606</td>\n",
       "    </tr>\n",
       "  </tbody>\n",
       "</table>\n",
       "</div>"
      ],
      "text/plain": [
       "          School user_screen_name  influencer_weight\n",
       "267118   Harvard  HarvardStudyBot               2272\n",
       "1185081  Harvard          kryssew               1915\n",
       "892016   Harvard      cecesoojung               1849\n",
       "1253858  Harvard        mba_buddy               1620\n",
       "1037635  Harvard        grhluna24               1606"
      ]
     },
     "execution_count": 165,
     "metadata": {},
     "output_type": "execute_result"
    }
   ],
   "source": [
    "# Harvard top twitterer by total sum of retweets\n",
    "dfSchoolGrouping = df.groupby(['School', 'user_screen_name'], as_index=False)['influencer_weight'].sum()\n",
    "harvardRetweeters = dfSchoolGrouping[dfSchoolGrouping['School'].str.contains(\"Harvard\")].sort_values(by='influencer_weight', ascending=False)\n",
    "harvardRetweeters.head()"
   ]
  },
  {
   "cell_type": "markdown",
   "metadata": {},
   "source": [
    "### 1) Northwestern by message volume and sum of retweets"
   ]
  },
  {
   "cell_type": "code",
   "execution_count": 87,
   "metadata": {},
   "outputs": [
    {
     "data": {
      "text/html": [
       "<div>\n",
       "<style scoped>\n",
       "    .dataframe tbody tr th:only-of-type {\n",
       "        vertical-align: middle;\n",
       "    }\n",
       "\n",
       "    .dataframe tbody tr th {\n",
       "        vertical-align: top;\n",
       "    }\n",
       "\n",
       "    .dataframe thead th {\n",
       "        text-align: right;\n",
       "    }\n",
       "</style>\n",
       "<table border=\"1\" class=\"dataframe\">\n",
       "  <thead>\n",
       "    <tr style=\"text-align: right;\">\n",
       "      <th></th>\n",
       "      <th>School</th>\n",
       "      <th>user_screen_name</th>\n",
       "      <th>user_id</th>\n",
       "    </tr>\n",
       "  </thead>\n",
       "  <tbody>\n",
       "    <tr>\n",
       "      <th>1647168</th>\n",
       "      <td>Northwestern</td>\n",
       "      <td>NSUDemonsFans</td>\n",
       "      <td>2500</td>\n",
       "    </tr>\n",
       "    <tr>\n",
       "      <th>1710548</th>\n",
       "      <td>Northwestern</td>\n",
       "      <td>Sports_Journal</td>\n",
       "      <td>1019</td>\n",
       "    </tr>\n",
       "    <tr>\n",
       "      <th>1444070</th>\n",
       "      <td>Northwestern</td>\n",
       "      <td>Andrew_weather</td>\n",
       "      <td>933</td>\n",
       "    </tr>\n",
       "    <tr>\n",
       "      <th>1814086</th>\n",
       "      <td>Northwestern</td>\n",
       "      <td>cbhhughes21</td>\n",
       "      <td>853</td>\n",
       "    </tr>\n",
       "    <tr>\n",
       "      <th>1710440</th>\n",
       "      <td>Northwestern</td>\n",
       "      <td>SportsKT</td>\n",
       "      <td>732</td>\n",
       "    </tr>\n",
       "  </tbody>\n",
       "</table>\n",
       "</div>"
      ],
      "text/plain": [
       "               School user_screen_name  user_id\n",
       "1647168  Northwestern    NSUDemonsFans     2500\n",
       "1710548  Northwestern   Sports_Journal     1019\n",
       "1444070  Northwestern   Andrew_weather      933\n",
       "1814086  Northwestern      cbhhughes21      853\n",
       "1710440  Northwestern         SportsKT      732"
      ]
     },
     "execution_count": 87,
     "metadata": {},
     "output_type": "execute_result"
    }
   ],
   "source": [
    "# harvard top twitterer by volume\n",
    "dfSchoolGrouping = df.groupby(['School', 'user_screen_name'], as_index=False)['user_id'].count()\n",
    "nwTweeters = dfSchoolGrouping[dfSchoolGrouping['School'].str.contains(\"Northwestern\")].sort_values(by='user_id', ascending=False)\n",
    "nwTweeters.head()"
   ]
  },
  {
   "cell_type": "code",
   "execution_count": 88,
   "metadata": {
    "scrolled": true
   },
   "outputs": [
    {
     "data": {
      "text/html": [
       "<div>\n",
       "<style scoped>\n",
       "    .dataframe tbody tr th:only-of-type {\n",
       "        vertical-align: middle;\n",
       "    }\n",
       "\n",
       "    .dataframe tbody tr th {\n",
       "        vertical-align: top;\n",
       "    }\n",
       "\n",
       "    .dataframe thead th {\n",
       "        text-align: right;\n",
       "    }\n",
       "</style>\n",
       "<table border=\"1\" class=\"dataframe\">\n",
       "  <thead>\n",
       "    <tr style=\"text-align: right;\">\n",
       "      <th></th>\n",
       "      <th>School</th>\n",
       "      <th>user_screen_name</th>\n",
       "      <th>retweeted_count</th>\n",
       "    </tr>\n",
       "  </thead>\n",
       "  <tbody>\n",
       "    <tr>\n",
       "      <th>2051530</th>\n",
       "      <td>Northwestern</td>\n",
       "      <td>wmzafravelasco</td>\n",
       "      <td>89722.0</td>\n",
       "    </tr>\n",
       "    <tr>\n",
       "      <th>1987923</th>\n",
       "      <td>Northwestern</td>\n",
       "      <td>raybae689</td>\n",
       "      <td>74209.0</td>\n",
       "    </tr>\n",
       "    <tr>\n",
       "      <th>1890662</th>\n",
       "      <td>Northwestern</td>\n",
       "      <td>jared_secret</td>\n",
       "      <td>44027.0</td>\n",
       "    </tr>\n",
       "    <tr>\n",
       "      <th>1570629</th>\n",
       "      <td>Northwestern</td>\n",
       "      <td>JacobG88</td>\n",
       "      <td>39369.0</td>\n",
       "    </tr>\n",
       "    <tr>\n",
       "      <th>1809118</th>\n",
       "      <td>Northwestern</td>\n",
       "      <td>bz80qrlXkWpoBcT</td>\n",
       "      <td>38263.0</td>\n",
       "    </tr>\n",
       "  </tbody>\n",
       "</table>\n",
       "</div>"
      ],
      "text/plain": [
       "               School user_screen_name  retweeted_count\n",
       "2051530  Northwestern   wmzafravelasco          89722.0\n",
       "1987923  Northwestern        raybae689          74209.0\n",
       "1890662  Northwestern     jared_secret          44027.0\n",
       "1570629  Northwestern         JacobG88          39369.0\n",
       "1809118  Northwestern  bz80qrlXkWpoBcT          38263.0"
      ]
     },
     "execution_count": 88,
     "metadata": {},
     "output_type": "execute_result"
    }
   ],
   "source": [
    "# Harvard top twitterer by total sum of retweets\n",
    "dfSchoolGrouping = df.groupby(['School', 'user_screen_name'], as_index=False)['retweeted_count'].sum()\n",
    "nwRetweeters = dfSchoolGrouping[dfSchoolGrouping['School'].str.contains(\"Northwestern\")].sort_values(by='retweeted_count', ascending=False)\n",
    "nwRetweeters.head()"
   ]
  },
  {
   "cell_type": "code",
   "execution_count": 166,
   "metadata": {
    "scrolled": true
   },
   "outputs": [
    {
     "data": {
      "text/html": [
       "<div>\n",
       "<style scoped>\n",
       "    .dataframe tbody tr th:only-of-type {\n",
       "        vertical-align: middle;\n",
       "    }\n",
       "\n",
       "    .dataframe tbody tr th {\n",
       "        vertical-align: top;\n",
       "    }\n",
       "\n",
       "    .dataframe thead th {\n",
       "        text-align: right;\n",
       "    }\n",
       "</style>\n",
       "<table border=\"1\" class=\"dataframe\">\n",
       "  <thead>\n",
       "    <tr style=\"text-align: right;\">\n",
       "      <th></th>\n",
       "      <th>School</th>\n",
       "      <th>user_screen_name</th>\n",
       "      <th>influencer_weight</th>\n",
       "    </tr>\n",
       "  </thead>\n",
       "  <tbody>\n",
       "    <tr>\n",
       "      <th>1630328</th>\n",
       "      <td>Northwestern</td>\n",
       "      <td>AmericaAlerts</td>\n",
       "      <td>6313</td>\n",
       "    </tr>\n",
       "    <tr>\n",
       "      <th>1911421</th>\n",
       "      <td>Northwestern</td>\n",
       "      <td>NSUDemonsFans</td>\n",
       "      <td>5620</td>\n",
       "    </tr>\n",
       "    <tr>\n",
       "      <th>2052352</th>\n",
       "      <td>Northwestern</td>\n",
       "      <td>WXHAZARDSKS</td>\n",
       "      <td>4643</td>\n",
       "    </tr>\n",
       "    <tr>\n",
       "      <th>2337240</th>\n",
       "      <td>Northwestern</td>\n",
       "      <td>newstarsbot</td>\n",
       "      <td>3642</td>\n",
       "    </tr>\n",
       "    <tr>\n",
       "      <th>2232070</th>\n",
       "      <td>Northwestern</td>\n",
       "      <td>insidenu</td>\n",
       "      <td>3285</td>\n",
       "    </tr>\n",
       "  </tbody>\n",
       "</table>\n",
       "</div>"
      ],
      "text/plain": [
       "               School user_screen_name  influencer_weight\n",
       "1630328  Northwestern    AmericaAlerts               6313\n",
       "1911421  Northwestern    NSUDemonsFans               5620\n",
       "2052352  Northwestern      WXHAZARDSKS               4643\n",
       "2337240  Northwestern      newstarsbot               3642\n",
       "2232070  Northwestern         insidenu               3285"
      ]
     },
     "execution_count": 166,
     "metadata": {},
     "output_type": "execute_result"
    }
   ],
   "source": [
    "# Harvard top twitterer by total sum of retweets\n",
    "dfSchoolGrouping = df.groupby(['School', 'user_screen_name'], as_index=False)['influencer_weight'].sum()\n",
    "nwRetweeters = dfSchoolGrouping[dfSchoolGrouping['School'].str.contains(\"Northwestern\")].sort_values(by='influencer_weight', ascending=False)\n",
    "nwRetweeters.head()"
   ]
  },
  {
   "cell_type": "markdown",
   "metadata": {},
   "source": [
    "### 1) Yale by message volume and sum of retweets"
   ]
  },
  {
   "cell_type": "code",
   "execution_count": 86,
   "metadata": {},
   "outputs": [
    {
     "data": {
      "text/html": [
       "<div>\n",
       "<style scoped>\n",
       "    .dataframe tbody tr th:only-of-type {\n",
       "        vertical-align: middle;\n",
       "    }\n",
       "\n",
       "    .dataframe tbody tr th {\n",
       "        vertical-align: top;\n",
       "    }\n",
       "\n",
       "    .dataframe thead th {\n",
       "        text-align: right;\n",
       "    }\n",
       "</style>\n",
       "<table border=\"1\" class=\"dataframe\">\n",
       "  <thead>\n",
       "    <tr style=\"text-align: right;\">\n",
       "      <th></th>\n",
       "      <th>School</th>\n",
       "      <th>user_screen_name</th>\n",
       "      <th>user_id</th>\n",
       "    </tr>\n",
       "  </thead>\n",
       "  <tbody>\n",
       "    <tr>\n",
       "      <th>2332048</th>\n",
       "      <td>Yale</td>\n",
       "      <td>kinibottommintd</td>\n",
       "      <td>1661</td>\n",
       "    </tr>\n",
       "    <tr>\n",
       "      <th>2308156</th>\n",
       "      <td>Yale</td>\n",
       "      <td>honischgalerie</td>\n",
       "      <td>691</td>\n",
       "    </tr>\n",
       "    <tr>\n",
       "      <th>2281023</th>\n",
       "      <td>Yale</td>\n",
       "      <td>dantereno10</td>\n",
       "      <td>230</td>\n",
       "    </tr>\n",
       "    <tr>\n",
       "      <th>2415491</th>\n",
       "      <td>Yale</td>\n",
       "      <td>wendchain</td>\n",
       "      <td>224</td>\n",
       "    </tr>\n",
       "    <tr>\n",
       "      <th>2358569</th>\n",
       "      <td>Yale</td>\n",
       "      <td>n8taki</td>\n",
       "      <td>223</td>\n",
       "    </tr>\n",
       "  </tbody>\n",
       "</table>\n",
       "</div>"
      ],
      "text/plain": [
       "        School user_screen_name  user_id\n",
       "2332048   Yale  kinibottommintd     1661\n",
       "2308156   Yale   honischgalerie      691\n",
       "2281023   Yale      dantereno10      230\n",
       "2415491   Yale        wendchain      224\n",
       "2358569   Yale           n8taki      223"
      ]
     },
     "execution_count": 86,
     "metadata": {},
     "output_type": "execute_result"
    }
   ],
   "source": [
    "# Yale top twitterer by volume\n",
    "dfSchoolGrouping = df.groupby(['School', 'user_screen_name'], as_index=False)['user_id'].count()\n",
    "yaleTweeters = dfSchoolGrouping[dfSchoolGrouping['School'].str.contains(\"Yale\")].sort_values(by='user_id', ascending=False)\n",
    "yaleTweeters.head()"
   ]
  },
  {
   "cell_type": "code",
   "execution_count": 71,
   "metadata": {},
   "outputs": [
    {
     "data": {
      "text/html": [
       "<div>\n",
       "<style scoped>\n",
       "    .dataframe tbody tr th:only-of-type {\n",
       "        vertical-align: middle;\n",
       "    }\n",
       "\n",
       "    .dataframe tbody tr th {\n",
       "        vertical-align: top;\n",
       "    }\n",
       "\n",
       "    .dataframe thead th {\n",
       "        text-align: right;\n",
       "    }\n",
       "</style>\n",
       "<table border=\"1\" class=\"dataframe\">\n",
       "  <thead>\n",
       "    <tr style=\"text-align: right;\">\n",
       "      <th></th>\n",
       "      <th>School</th>\n",
       "      <th>user_screen_name</th>\n",
       "      <th>retweeted_count</th>\n",
       "    </tr>\n",
       "  </thead>\n",
       "  <tbody>\n",
       "    <tr>\n",
       "      <th>2349962</th>\n",
       "      <td>Yale</td>\n",
       "      <td>meghanaaa</td>\n",
       "      <td>219025.0</td>\n",
       "    </tr>\n",
       "    <tr>\n",
       "      <th>2377018</th>\n",
       "      <td>Yale</td>\n",
       "      <td>raybae689</td>\n",
       "      <td>186120.0</td>\n",
       "    </tr>\n",
       "    <tr>\n",
       "      <th>2310196</th>\n",
       "      <td>Yale</td>\n",
       "      <td>iambrittania</td>\n",
       "      <td>180870.0</td>\n",
       "    </tr>\n",
       "    <tr>\n",
       "      <th>2110554</th>\n",
       "      <td>Yale</td>\n",
       "      <td>EXFURIBISTA</td>\n",
       "      <td>120301.0</td>\n",
       "    </tr>\n",
       "    <tr>\n",
       "      <th>2329043</th>\n",
       "      <td>Yale</td>\n",
       "      <td>kaylaiko_</td>\n",
       "      <td>114448.0</td>\n",
       "    </tr>\n",
       "  </tbody>\n",
       "</table>\n",
       "</div>"
      ],
      "text/plain": [
       "        School user_screen_name  retweeted_count\n",
       "2349962   Yale        meghanaaa         219025.0\n",
       "2377018   Yale        raybae689         186120.0\n",
       "2310196   Yale     iambrittania         180870.0\n",
       "2110554   Yale      EXFURIBISTA         120301.0\n",
       "2329043   Yale        kaylaiko_         114448.0"
      ]
     },
     "execution_count": 71,
     "metadata": {},
     "output_type": "execute_result"
    }
   ],
   "source": [
    "# Harvard top twitterer by total sum of retweets\n",
    "dfSchoolGrouping = df.groupby(['School', 'user_screen_name'], as_index=False)['retweeted_count'].sum()\n",
    "yaleRetweeters = dfSchoolGrouping[dfSchoolGrouping['School'].str.contains(\"Yale\")].sort_values(by='retweeted_count', ascending=False)\n",
    "yaleRetweeters.head()"
   ]
  },
  {
   "cell_type": "code",
   "execution_count": 167,
   "metadata": {},
   "outputs": [
    {
     "data": {
      "text/html": [
       "<div>\n",
       "<style scoped>\n",
       "    .dataframe tbody tr th:only-of-type {\n",
       "        vertical-align: middle;\n",
       "    }\n",
       "\n",
       "    .dataframe tbody tr th {\n",
       "        vertical-align: top;\n",
       "    }\n",
       "\n",
       "    .dataframe thead th {\n",
       "        text-align: right;\n",
       "    }\n",
       "</style>\n",
       "<table border=\"1\" class=\"dataframe\">\n",
       "  <thead>\n",
       "    <tr style=\"text-align: right;\">\n",
       "      <th></th>\n",
       "      <th>School</th>\n",
       "      <th>user_screen_name</th>\n",
       "      <th>influencer_weight</th>\n",
       "    </tr>\n",
       "  </thead>\n",
       "  <tbody>\n",
       "    <tr>\n",
       "      <th>2782143</th>\n",
       "      <td>Yale</td>\n",
       "      <td>kinibottommintd</td>\n",
       "      <td>6994</td>\n",
       "    </tr>\n",
       "    <tr>\n",
       "      <th>2755284</th>\n",
       "      <td>Yale</td>\n",
       "      <td>honischgalerie</td>\n",
       "      <td>1801</td>\n",
       "    </tr>\n",
       "    <tr>\n",
       "      <th>2738319</th>\n",
       "      <td>Yale</td>\n",
       "      <td>esquireattire</td>\n",
       "      <td>1349</td>\n",
       "    </tr>\n",
       "    <tr>\n",
       "      <th>2532422</th>\n",
       "      <td>Yale</td>\n",
       "      <td>Finance_graduat</td>\n",
       "      <td>562</td>\n",
       "    </tr>\n",
       "    <tr>\n",
       "      <th>2724090</th>\n",
       "      <td>Yale</td>\n",
       "      <td>dantereno10</td>\n",
       "      <td>460</td>\n",
       "    </tr>\n",
       "  </tbody>\n",
       "</table>\n",
       "</div>"
      ],
      "text/plain": [
       "        School user_screen_name  influencer_weight\n",
       "2782143   Yale  kinibottommintd               6994\n",
       "2755284   Yale   honischgalerie               1801\n",
       "2738319   Yale    esquireattire               1349\n",
       "2532422   Yale  Finance_graduat                562\n",
       "2724090   Yale      dantereno10                460"
      ]
     },
     "execution_count": 167,
     "metadata": {},
     "output_type": "execute_result"
    }
   ],
   "source": [
    "# Harvard top twitterer by total sum of retweets\n",
    "dfSchoolGrouping = df.groupby(['School', 'user_screen_name'], as_index=False)['influencer_weight'].sum()\n",
    "yaleRetweeters = dfSchoolGrouping[dfSchoolGrouping['School'].str.contains(\"Yale\")].sort_values(by='influencer_weight', ascending=False)\n",
    "yaleRetweeters.head()"
   ]
  },
  {
   "cell_type": "markdown",
   "metadata": {},
   "source": [
    "## How much are they tweeting about the Universities vs. other topics?"
   ]
  },
  {
   "cell_type": "code",
   "execution_count": 147,
   "metadata": {},
   "outputs": [],
   "source": [
    "from io import StringIO"
   ]
  },
  {
   "cell_type": "code",
   "execution_count": 148,
   "metadata": {},
   "outputs": [
    {
     "name": "stdout",
     "output_type": "stream",
     "text": [
      "Total influencer tweets: 2479\n",
      "About the univeersity: 0.11\n"
     ]
    }
   ],
   "source": [
    "l = ['uchicago.edu','uc','uofc','graham','uchicago', 'university of chicago', 'uchicagolaw', 'Phil the Phoenix', 'maroons', 'chicago maroons']\n",
    "InfluencersuChicago = pd.read_csv('InfluencersuChicago.csv',lineterminator='\\n')\n",
    "InfluencersuChicago['text'] = InfluencersuChicago['text'].str.lower()\n",
    "l = [x.lower() for x in l]\n",
    "InfluencersuChicago['university_tweet'] = InfluencersuChicago['text'].apply(lambda x: ','.join([i for i in l if i in x]))\n",
    "print(\"Total influencer tweets: {}\".format(InfluencersuChicago['user_id'].count()))\n",
    "print(\"About the univeersity: {}\".format(round((InfluencersuChicago['university_tweet'].values != '').sum() / (InfluencersuChicago['university_tweet'].count()),2)))"
   ]
  },
  {
   "cell_type": "code",
   "execution_count": 149,
   "metadata": {},
   "outputs": [
    {
     "name": "stdout",
     "output_type": "stream",
     "text": [
      "Total influencer tweets: 11475\n",
      "About the univeersity: 0.01\n"
     ]
    }
   ],
   "source": [
    "l = ['Northwestern', 'Northwestern University']\n",
    "InfluencersNW = pd.read_csv('InfluencersNW.csv',lineterminator='\\n')\n",
    "InfluencersNW['text'] = InfluencersNW['text'].str.lower()\n",
    "l = [x.lower() for x in l]\n",
    "InfluencersNW['university_tweet'] = InfluencersNW['text'].apply(lambda x: ','.join([i for i in l if i in x]))\n",
    "print(\"Total influencer tweets: {}\".format(InfluencersNW['user_id'].count()))\n",
    "print(\"About the univeersity: {}\".format(round((InfluencersNW['university_tweet'].values != '').sum() / (InfluencersNW['university_tweet'].count()),2)))"
   ]
  },
  {
   "cell_type": "code",
   "execution_count": 150,
   "metadata": {},
   "outputs": [
    {
     "name": "stdout",
     "output_type": "stream",
     "text": [
      "Total influencer tweets: 13536\n",
      "About the univeersity: 0.005097517730496454\n"
     ]
    }
   ],
   "source": [
    "l = ['Harvard', 'Harvard University']\n",
    "InfluencersHarvard = pd.read_csv('InfluencersHarvard.csv',lineterminator='\\n')\n",
    "InfluencersHarvard['text'] = InfluencersHarvard['text'].str.lower()\n",
    "l = [x.lower() for x in l]\n",
    "InfluencersHarvard['university_tweet'] = InfluencersHarvard['text'].apply(lambda x: ','.join([i for i in l if i in x]))\n",
    "print(\"Total influencer tweets: {}\".format(InfluencersHarvard['user_id'].count()))\n",
    "print(\"About the univeersity: {}\".format((InfluencersHarvard['university_tweet'].values != '').sum() / (InfluencersHarvard['university_tweet'].count())))"
   ]
  },
  {
   "cell_type": "code",
   "execution_count": 151,
   "metadata": {},
   "outputs": [
    {
     "name": "stdout",
     "output_type": "stream",
     "text": [
      "Total influencer tweets: 6325\n",
      "About the univeersity: 0.01\n"
     ]
    }
   ],
   "source": [
    "l = ['Yale', 'Yale University']\n",
    "InfluencersYale = pd.read_csv('InfluencersYale.csv',lineterminator='\\n')\n",
    "InfluencersYale['text'] = InfluencersYale['text'].str.lower()\n",
    "l = [x.lower() for x in l]\n",
    "InfluencersYale['university_tweet'] = InfluencersYale['text'].apply(lambda x: ','.join([i for i in l if i in x]))\n",
    "print(\"Total influencer tweets: {}\".format(InfluencersYale['user_id'].count()))\n",
    "print(\"About the univeersity: {}\".format(round((InfluencersYale['university_tweet'].values != '').sum() / (InfluencersYale['university_tweet'].count()),2)))"
   ]
  },
  {
   "cell_type": "markdown",
   "metadata": {},
   "source": [
    "## Where are the Twitterers located? "
   ]
  },
  {
   "cell_type": "markdown",
   "metadata": {},
   "source": [
    "### For UChicago"
   ]
  },
  {
   "cell_type": "code",
   "execution_count": 90,
   "metadata": {},
   "outputs": [
    {
     "data": {
      "text/html": [
       "<div>\n",
       "<style scoped>\n",
       "    .dataframe tbody tr th:only-of-type {\n",
       "        vertical-align: middle;\n",
       "    }\n",
       "\n",
       "    .dataframe tbody tr th {\n",
       "        vertical-align: top;\n",
       "    }\n",
       "\n",
       "    .dataframe thead th {\n",
       "        text-align: right;\n",
       "    }\n",
       "</style>\n",
       "<table border=\"1\" class=\"dataframe\">\n",
       "  <thead>\n",
       "    <tr style=\"text-align: right;\">\n",
       "      <th></th>\n",
       "      <th>School</th>\n",
       "      <th>user_location</th>\n",
       "      <th>user_id</th>\n",
       "    </tr>\n",
       "  </thead>\n",
       "  <tbody>\n",
       "    <tr>\n",
       "      <th>576506</th>\n",
       "      <td>uChicago</td>\n",
       "      <td>Chicago, IL</td>\n",
       "      <td>16175</td>\n",
       "    </tr>\n",
       "    <tr>\n",
       "      <th>622191</th>\n",
       "      <td>uChicago</td>\n",
       "      <td>United States</td>\n",
       "      <td>6665</td>\n",
       "    </tr>\n",
       "    <tr>\n",
       "      <th>576105</th>\n",
       "      <td>uChicago</td>\n",
       "      <td>Chicago</td>\n",
       "      <td>5607</td>\n",
       "    </tr>\n",
       "    <tr>\n",
       "      <th>574514</th>\n",
       "      <td>uChicago</td>\n",
       "      <td>California, USA</td>\n",
       "      <td>3641</td>\n",
       "    </tr>\n",
       "    <tr>\n",
       "      <th>595955</th>\n",
       "      <td>uChicago</td>\n",
       "      <td>Los Angeles, CA</td>\n",
       "      <td>3635</td>\n",
       "    </tr>\n",
       "  </tbody>\n",
       "</table>\n",
       "</div>"
      ],
      "text/plain": [
       "          School    user_location  user_id\n",
       "576506  uChicago      Chicago, IL    16175\n",
       "622191  uChicago    United States     6665\n",
       "576105  uChicago          Chicago     5607\n",
       "574514  uChicago  California, USA     3641\n",
       "595955  uChicago  Los Angeles, CA     3635"
      ]
     },
     "execution_count": 90,
     "metadata": {},
     "output_type": "execute_result"
    }
   ],
   "source": [
    "# uCHicago tweet locations\n",
    "dfSchoolGrouping = df.groupby(['School', 'user_location'], as_index=False)['user_id'].count()\n",
    "uChicagoLocations = dfSchoolGrouping[dfSchoolGrouping['School'].str.contains(\"uChicago\")].sort_values(by='user_id', ascending=False)\n",
    "uChicagoLocations.head()"
   ]
  },
  {
   "cell_type": "code",
   "execution_count": 89,
   "metadata": {},
   "outputs": [
    {
     "data": {
      "text/html": [
       "<div>\n",
       "<style scoped>\n",
       "    .dataframe tbody tr th:only-of-type {\n",
       "        vertical-align: middle;\n",
       "    }\n",
       "\n",
       "    .dataframe tbody tr th {\n",
       "        vertical-align: top;\n",
       "    }\n",
       "\n",
       "    .dataframe thead th {\n",
       "        text-align: right;\n",
       "    }\n",
       "</style>\n",
       "<table border=\"1\" class=\"dataframe\">\n",
       "  <thead>\n",
       "    <tr style=\"text-align: right;\">\n",
       "      <th></th>\n",
       "      <th>School</th>\n",
       "      <th>user_location</th>\n",
       "      <th>user_id</th>\n",
       "    </tr>\n",
       "  </thead>\n",
       "  <tbody>\n",
       "    <tr>\n",
       "      <th>352788</th>\n",
       "      <td>Northwestern</td>\n",
       "      <td>Chicago, IL</td>\n",
       "      <td>19289</td>\n",
       "    </tr>\n",
       "    <tr>\n",
       "      <th>440654</th>\n",
       "      <td>Northwestern</td>\n",
       "      <td>United States</td>\n",
       "      <td>14830</td>\n",
       "    </tr>\n",
       "    <tr>\n",
       "      <th>365332</th>\n",
       "      <td>Northwestern</td>\n",
       "      <td>Evanston, IL</td>\n",
       "      <td>6689</td>\n",
       "    </tr>\n",
       "    <tr>\n",
       "      <th>352330</th>\n",
       "      <td>Northwestern</td>\n",
       "      <td>Chicago</td>\n",
       "      <td>6651</td>\n",
       "    </tr>\n",
       "    <tr>\n",
       "      <th>376636</th>\n",
       "      <td>Northwestern</td>\n",
       "      <td>Houston, TX</td>\n",
       "      <td>5235</td>\n",
       "    </tr>\n",
       "  </tbody>\n",
       "</table>\n",
       "</div>"
      ],
      "text/plain": [
       "              School  user_location  user_id\n",
       "352788  Northwestern    Chicago, IL    19289\n",
       "440654  Northwestern  United States    14830\n",
       "365332  Northwestern   Evanston, IL     6689\n",
       "352330  Northwestern        Chicago     6651\n",
       "376636  Northwestern    Houston, TX     5235"
      ]
     },
     "execution_count": 89,
     "metadata": {},
     "output_type": "execute_result"
    }
   ],
   "source": [
    "# Northwester tweet locations\n",
    "dfSchoolGrouping = df.groupby(['School', 'user_location'], as_index=False)['user_id'].count()\n",
    "nwLocations = dfSchoolGrouping[dfSchoolGrouping['School'].str.contains(\"Northwestern\")].sort_values(by='user_id', ascending=False)\n",
    "nwLocations.head()"
   ]
  },
  {
   "cell_type": "code",
   "execution_count": 91,
   "metadata": {},
   "outputs": [
    {
     "data": {
      "text/html": [
       "<div>\n",
       "<style scoped>\n",
       "    .dataframe tbody tr th:only-of-type {\n",
       "        vertical-align: middle;\n",
       "    }\n",
       "\n",
       "    .dataframe tbody tr th {\n",
       "        vertical-align: top;\n",
       "    }\n",
       "\n",
       "    .dataframe thead th {\n",
       "        text-align: right;\n",
       "    }\n",
       "</style>\n",
       "<table border=\"1\" class=\"dataframe\">\n",
       "  <thead>\n",
       "    <tr style=\"text-align: right;\">\n",
       "      <th></th>\n",
       "      <th>School</th>\n",
       "      <th>user_location</th>\n",
       "      <th>user_id</th>\n",
       "    </tr>\n",
       "  </thead>\n",
       "  <tbody>\n",
       "    <tr>\n",
       "      <th>213623</th>\n",
       "      <td>Harvard</td>\n",
       "      <td>United States</td>\n",
       "      <td>33403</td>\n",
       "    </tr>\n",
       "    <tr>\n",
       "      <th>101225</th>\n",
       "      <td>Harvard</td>\n",
       "      <td>India</td>\n",
       "      <td>15633</td>\n",
       "    </tr>\n",
       "    <tr>\n",
       "      <th>47319</th>\n",
       "      <td>Harvard</td>\n",
       "      <td>California, USA</td>\n",
       "      <td>12077</td>\n",
       "    </tr>\n",
       "    <tr>\n",
       "      <th>211607</th>\n",
       "      <td>Harvard</td>\n",
       "      <td>USA</td>\n",
       "      <td>11893</td>\n",
       "    </tr>\n",
       "    <tr>\n",
       "      <th>200375</th>\n",
       "      <td>Harvard</td>\n",
       "      <td>Texas, USA</td>\n",
       "      <td>10183</td>\n",
       "    </tr>\n",
       "  </tbody>\n",
       "</table>\n",
       "</div>"
      ],
      "text/plain": [
       "         School    user_location  user_id\n",
       "213623  Harvard    United States    33403\n",
       "101225  Harvard            India    15633\n",
       "47319   Harvard  California, USA    12077\n",
       "211607  Harvard              USA    11893\n",
       "200375  Harvard       Texas, USA    10183"
      ]
     },
     "execution_count": 91,
     "metadata": {},
     "output_type": "execute_result"
    }
   ],
   "source": [
    "# harvard tweet locations\n",
    "dfSchoolGrouping = df.groupby(['School', 'user_location'], as_index=False)['user_id'].count()\n",
    "harvardLocations = dfSchoolGrouping[dfSchoolGrouping['School'].str.contains(\"Harvard\")].sort_values(by='user_id', ascending=False)\n",
    "harvardLocations.head()"
   ]
  },
  {
   "cell_type": "code",
   "execution_count": 92,
   "metadata": {},
   "outputs": [
    {
     "data": {
      "text/html": [
       "<div>\n",
       "<style scoped>\n",
       "    .dataframe tbody tr th:only-of-type {\n",
       "        vertical-align: middle;\n",
       "    }\n",
       "\n",
       "    .dataframe tbody tr th {\n",
       "        vertical-align: top;\n",
       "    }\n",
       "\n",
       "    .dataframe thead th {\n",
       "        text-align: right;\n",
       "    }\n",
       "</style>\n",
       "<table border=\"1\" class=\"dataframe\">\n",
       "  <thead>\n",
       "    <tr style=\"text-align: right;\">\n",
       "      <th></th>\n",
       "      <th>School</th>\n",
       "      <th>user_location</th>\n",
       "      <th>user_id</th>\n",
       "    </tr>\n",
       "  </thead>\n",
       "  <tbody>\n",
       "    <tr>\n",
       "      <th>539786</th>\n",
       "      <td>Yale</td>\n",
       "      <td>United States</td>\n",
       "      <td>10668</td>\n",
       "    </tr>\n",
       "    <tr>\n",
       "      <th>539137</th>\n",
       "      <td>Yale</td>\n",
       "      <td>USA</td>\n",
       "      <td>4626</td>\n",
       "    </tr>\n",
       "    <tr>\n",
       "      <th>487445</th>\n",
       "      <td>Yale</td>\n",
       "      <td>California, USA</td>\n",
       "      <td>3552</td>\n",
       "    </tr>\n",
       "    <tr>\n",
       "      <th>535399</th>\n",
       "      <td>Yale</td>\n",
       "      <td>Texas, USA</td>\n",
       "      <td>3187</td>\n",
       "    </tr>\n",
       "    <tr>\n",
       "      <th>504335</th>\n",
       "      <td>Yale</td>\n",
       "      <td>India</td>\n",
       "      <td>2933</td>\n",
       "    </tr>\n",
       "  </tbody>\n",
       "</table>\n",
       "</div>"
      ],
      "text/plain": [
       "       School    user_location  user_id\n",
       "539786   Yale    United States    10668\n",
       "539137   Yale              USA     4626\n",
       "487445   Yale  California, USA     3552\n",
       "535399   Yale       Texas, USA     3187\n",
       "504335   Yale            India     2933"
      ]
     },
     "execution_count": 92,
     "metadata": {},
     "output_type": "execute_result"
    }
   ],
   "source": [
    "# yale tweet locations\n",
    "dfSchoolGrouping = df.groupby(['School', 'user_location'], as_index=False)['user_id'].count()\n",
    "yaleLocations = dfSchoolGrouping[dfSchoolGrouping['School'].str.contains(\"Yale\")].sort_values(by='user_id', ascending=False)\n",
    "yaleLocations.head()"
   ]
  },
  {
   "cell_type": "markdown",
   "metadata": {},
   "source": [
    "### Do you see any relationship between university locations and Twitterers’ locations?"
   ]
  },
  {
   "cell_type": "code",
   "execution_count": null,
   "metadata": {},
   "outputs": [],
   "source": [
    "# Yes"
   ]
  },
  {
   "cell_type": "markdown",
   "metadata": {},
   "source": [
    "### Visualize the relationships"
   ]
  },
  {
   "cell_type": "code",
   "execution_count": 94,
   "metadata": {},
   "outputs": [],
   "source": [
    "# Visualized stacked bar of pct of universities tweets by twitterer location in PowerPoint"
   ]
  },
  {
   "cell_type": "markdown",
   "metadata": {},
   "source": [
    "## Where are these RETwitterers located? #TODO Potentially add this info to presentation "
   ]
  },
  {
   "cell_type": "markdown",
   "metadata": {},
   "source": [
    "### For UChicago"
   ]
  },
  {
   "cell_type": "code",
   "execution_count": 95,
   "metadata": {},
   "outputs": [
    {
     "data": {
      "text/html": [
       "<div>\n",
       "<style scoped>\n",
       "    .dataframe tbody tr th:only-of-type {\n",
       "        vertical-align: middle;\n",
       "    }\n",
       "\n",
       "    .dataframe tbody tr th {\n",
       "        vertical-align: top;\n",
       "    }\n",
       "\n",
       "    .dataframe thead th {\n",
       "        text-align: right;\n",
       "    }\n",
       "</style>\n",
       "<table border=\"1\" class=\"dataframe\">\n",
       "  <thead>\n",
       "    <tr style=\"text-align: right;\">\n",
       "      <th></th>\n",
       "      <th>School</th>\n",
       "      <th>retweet_user_location</th>\n",
       "      <th>user_id</th>\n",
       "    </tr>\n",
       "  </thead>\n",
       "  <tbody>\n",
       "    <tr>\n",
       "      <th>47681</th>\n",
       "      <td>uChicago</td>\n",
       "      <td>Chicago, IL</td>\n",
       "      <td>34428</td>\n",
       "    </tr>\n",
       "    <tr>\n",
       "      <th>48196</th>\n",
       "      <td>uChicago</td>\n",
       "      <td>DC/NYCNative/❤️ in #Ferguson</td>\n",
       "      <td>10883</td>\n",
       "    </tr>\n",
       "    <tr>\n",
       "      <th>52683</th>\n",
       "      <td>uChicago</td>\n",
       "      <td>Philippines</td>\n",
       "      <td>9642</td>\n",
       "    </tr>\n",
       "    <tr>\n",
       "      <th>47586</th>\n",
       "      <td>uChicago</td>\n",
       "      <td>Chicago</td>\n",
       "      <td>9211</td>\n",
       "    </tr>\n",
       "    <tr>\n",
       "      <th>56860</th>\n",
       "      <td>uChicago</td>\n",
       "      <td>✶ ✶ ✶ ✶</td>\n",
       "      <td>8559</td>\n",
       "    </tr>\n",
       "  </tbody>\n",
       "</table>\n",
       "</div>"
      ],
      "text/plain": [
       "         School         retweet_user_location  user_id\n",
       "47681  uChicago                   Chicago, IL    34428\n",
       "48196  uChicago  DC/NYCNative/❤️ in #Ferguson    10883\n",
       "52683  uChicago                   Philippines     9642\n",
       "47586  uChicago                       Chicago     9211\n",
       "56860  uChicago                       ✶ ✶ ✶ ✶     8559"
      ]
     },
     "execution_count": 95,
     "metadata": {},
     "output_type": "execute_result"
    }
   ],
   "source": [
    "# uCHicago tweet locations\n",
    "dfSchoolGrouping = df.groupby(['School', 'retweet_user_location'], as_index=False)['user_id'].count()\n",
    "uChicagoLocations = dfSchoolGrouping[dfSchoolGrouping['School'].str.contains(\"uChicago\")].sort_values(by='user_id', ascending=False)\n",
    "uChicagoLocations.head()"
   ]
  },
  {
   "cell_type": "code",
   "execution_count": 96,
   "metadata": {},
   "outputs": [
    {
     "data": {
      "text/html": [
       "<div>\n",
       "<style scoped>\n",
       "    .dataframe tbody tr th:only-of-type {\n",
       "        vertical-align: middle;\n",
       "    }\n",
       "\n",
       "    .dataframe tbody tr th {\n",
       "        vertical-align: top;\n",
       "    }\n",
       "\n",
       "    .dataframe thead th {\n",
       "        text-align: right;\n",
       "    }\n",
       "</style>\n",
       "<table border=\"1\" class=\"dataframe\">\n",
       "  <thead>\n",
       "    <tr style=\"text-align: right;\">\n",
       "      <th></th>\n",
       "      <th>School</th>\n",
       "      <th>retweet_user_location</th>\n",
       "      <th>user_id</th>\n",
       "    </tr>\n",
       "  </thead>\n",
       "  <tbody>\n",
       "    <tr>\n",
       "      <th>22791</th>\n",
       "      <td>Northwestern</td>\n",
       "      <td>Chicago, IL</td>\n",
       "      <td>60515</td>\n",
       "    </tr>\n",
       "    <tr>\n",
       "      <th>29202</th>\n",
       "      <td>Northwestern</td>\n",
       "      <td>Miami, FL</td>\n",
       "      <td>23728</td>\n",
       "    </tr>\n",
       "    <tr>\n",
       "      <th>24750</th>\n",
       "      <td>Northwestern</td>\n",
       "      <td>Evanston, IL</td>\n",
       "      <td>19361</td>\n",
       "    </tr>\n",
       "    <tr>\n",
       "      <th>30337</th>\n",
       "      <td>Northwestern</td>\n",
       "      <td>New York, NY</td>\n",
       "      <td>17842</td>\n",
       "    </tr>\n",
       "    <tr>\n",
       "      <th>35606</th>\n",
       "      <td>Northwestern</td>\n",
       "      <td>United States</td>\n",
       "      <td>15386</td>\n",
       "    </tr>\n",
       "  </tbody>\n",
       "</table>\n",
       "</div>"
      ],
      "text/plain": [
       "             School retweet_user_location  user_id\n",
       "22791  Northwestern           Chicago, IL    60515\n",
       "29202  Northwestern             Miami, FL    23728\n",
       "24750  Northwestern          Evanston, IL    19361\n",
       "30337  Northwestern          New York, NY    17842\n",
       "35606  Northwestern         United States    15386"
      ]
     },
     "execution_count": 96,
     "metadata": {},
     "output_type": "execute_result"
    }
   ],
   "source": [
    "# Northwester tweet locations\n",
    "dfSchoolGrouping = df.groupby(['School', 'retweet_user_location'], as_index=False)['user_id'].count()\n",
    "nwLocations = dfSchoolGrouping[dfSchoolGrouping['School'].str.contains(\"Northwestern\")].sort_values(by='user_id', ascending=False)\n",
    "nwLocations.head()"
   ]
  },
  {
   "cell_type": "code",
   "execution_count": 97,
   "metadata": {},
   "outputs": [
    {
     "data": {
      "text/html": [
       "<div>\n",
       "<style scoped>\n",
       "    .dataframe tbody tr th:only-of-type {\n",
       "        vertical-align: middle;\n",
       "    }\n",
       "\n",
       "    .dataframe tbody tr th {\n",
       "        vertical-align: top;\n",
       "    }\n",
       "\n",
       "    .dataframe thead th {\n",
       "        text-align: right;\n",
       "    }\n",
       "</style>\n",
       "<table border=\"1\" class=\"dataframe\">\n",
       "  <thead>\n",
       "    <tr style=\"text-align: right;\">\n",
       "      <th></th>\n",
       "      <th>School</th>\n",
       "      <th>retweet_user_location</th>\n",
       "      <th>user_id</th>\n",
       "    </tr>\n",
       "  </thead>\n",
       "  <tbody>\n",
       "    <tr>\n",
       "      <th>10259</th>\n",
       "      <td>Harvard</td>\n",
       "      <td>Opelousas, LA</td>\n",
       "      <td>168604</td>\n",
       "    </tr>\n",
       "    <tr>\n",
       "      <th>10539</th>\n",
       "      <td>Harvard</td>\n",
       "      <td>Palmira, Colombia</td>\n",
       "      <td>65878</td>\n",
       "    </tr>\n",
       "    <tr>\n",
       "      <th>5329</th>\n",
       "      <td>Harvard</td>\n",
       "      <td>Global</td>\n",
       "      <td>44097</td>\n",
       "    </tr>\n",
       "    <tr>\n",
       "      <th>9567</th>\n",
       "      <td>Harvard</td>\n",
       "      <td>New York, NY</td>\n",
       "      <td>39895</td>\n",
       "    </tr>\n",
       "    <tr>\n",
       "      <th>7965</th>\n",
       "      <td>Harvard</td>\n",
       "      <td>Los Angeles, CA</td>\n",
       "      <td>36414</td>\n",
       "    </tr>\n",
       "  </tbody>\n",
       "</table>\n",
       "</div>"
      ],
      "text/plain": [
       "        School retweet_user_location  user_id\n",
       "10259  Harvard         Opelousas, LA   168604\n",
       "10539  Harvard     Palmira, Colombia    65878\n",
       "5329   Harvard                Global    44097\n",
       "9567   Harvard          New York, NY    39895\n",
       "7965   Harvard       Los Angeles, CA    36414"
      ]
     },
     "execution_count": 97,
     "metadata": {},
     "output_type": "execute_result"
    }
   ],
   "source": [
    "# harvard tweet locations\n",
    "dfSchoolGrouping = df.groupby(['School', 'retweet_user_location'], as_index=False)['user_id'].count()\n",
    "harvardLocations = dfSchoolGrouping[dfSchoolGrouping['School'].str.contains(\"Harvard\")].sort_values(by='user_id', ascending=False)\n",
    "harvardLocations.head()"
   ]
  },
  {
   "cell_type": "code",
   "execution_count": 98,
   "metadata": {},
   "outputs": [
    {
     "data": {
      "text/html": [
       "<div>\n",
       "<style scoped>\n",
       "    .dataframe tbody tr th:only-of-type {\n",
       "        vertical-align: middle;\n",
       "    }\n",
       "\n",
       "    .dataframe tbody tr th {\n",
       "        vertical-align: top;\n",
       "    }\n",
       "\n",
       "    .dataframe thead th {\n",
       "        text-align: right;\n",
       "    }\n",
       "</style>\n",
       "<table border=\"1\" class=\"dataframe\">\n",
       "  <thead>\n",
       "    <tr style=\"text-align: right;\">\n",
       "      <th></th>\n",
       "      <th>School</th>\n",
       "      <th>retweet_user_location</th>\n",
       "      <th>user_id</th>\n",
       "    </tr>\n",
       "  </thead>\n",
       "  <tbody>\n",
       "    <tr>\n",
       "      <th>41206</th>\n",
       "      <td>Yale</td>\n",
       "      <td>Houston, TX</td>\n",
       "      <td>35070</td>\n",
       "    </tr>\n",
       "    <tr>\n",
       "      <th>44164</th>\n",
       "      <td>Yale</td>\n",
       "      <td>The United States of America</td>\n",
       "      <td>29861</td>\n",
       "    </tr>\n",
       "    <tr>\n",
       "      <th>42985</th>\n",
       "      <td>Yale</td>\n",
       "      <td>PR: @K_Sinatra7</td>\n",
       "      <td>24092</td>\n",
       "    </tr>\n",
       "    <tr>\n",
       "      <th>44632</th>\n",
       "      <td>Yale</td>\n",
       "      <td>Washington, DC</td>\n",
       "      <td>17058</td>\n",
       "    </tr>\n",
       "    <tr>\n",
       "      <th>42594</th>\n",
       "      <td>Yale</td>\n",
       "      <td>New York, NY</td>\n",
       "      <td>12177</td>\n",
       "    </tr>\n",
       "  </tbody>\n",
       "</table>\n",
       "</div>"
      ],
      "text/plain": [
       "      School         retweet_user_location  user_id\n",
       "41206   Yale                   Houston, TX    35070\n",
       "44164   Yale  The United States of America    29861\n",
       "42985   Yale               PR: @K_Sinatra7    24092\n",
       "44632   Yale                Washington, DC    17058\n",
       "42594   Yale                  New York, NY    12177"
      ]
     },
     "execution_count": 98,
     "metadata": {},
     "output_type": "execute_result"
    }
   ],
   "source": [
    "# yale tweet locations\n",
    "dfSchoolGrouping = df.groupby(['School', 'retweet_user_location'], as_index=False)['user_id'].count()\n",
    "yaleLocations = dfSchoolGrouping[dfSchoolGrouping['School'].str.contains(\"Yale\")].sort_values(by='user_id', ascending=False)\n",
    "yaleLocations.head()"
   ]
  },
  {
   "cell_type": "markdown",
   "metadata": {},
   "source": [
    "## What distinguishes University of Chicago Twitterers vs Twitterers who tweet about other universities (Visualize the trends)"
   ]
  },
  {
   "cell_type": "code",
   "execution_count": 100,
   "metadata": {},
   "outputs": [
    {
     "data": {
      "text/plain": [
       "0    2017-06-22\n",
       "1    2017-06-22\n",
       "2    2017-06-22\n",
       "3    2017-06-22\n",
       "4    2017-06-22\n",
       "Name: tweet_created_at_date, dtype: object"
      ]
     },
     "execution_count": 100,
     "metadata": {},
     "output_type": "execute_result"
    }
   ],
   "source": [
    "df['tweet_created_at_date'].head()"
   ]
  },
  {
   "cell_type": "markdown",
   "metadata": {},
   "source": [
    "## What are the timelines of these tweets? Do you see significant peaks and valleys? (i.e. Do you see data collection gaps?)"
   ]
  },
  {
   "cell_type": "code",
   "execution_count": 128,
   "metadata": {},
   "outputs": [
    {
     "data": {
      "text/plain": [
       "<AxesSubplot:>"
      ]
     },
     "execution_count": 128,
     "metadata": {},
     "output_type": "execute_result"
    },
    {
     "data": {
      "image/png": "[encoded data removed]",
      "text/plain": [
       "<Figure size 432x288 with 1 Axes>"
      ]
     },
     "metadata": {
      "needs_background": "light"
     },
     "output_type": "display_data"
    }
   ],
   "source": [
    "df['tweet_created_at'].hist()"
   ]
  },
  {
   "cell_type": "code",
   "execution_count": 144,
   "metadata": {},
   "outputs": [],
   "source": [
    "times = df[['School','tweet_created_at']]"
   ]
  },
  {
   "cell_type": "code",
   "execution_count": 145,
   "metadata": {},
   "outputs": [
    {
     "data": {
      "text/plain": [
       "<AxesSubplot:>"
      ]
     },
     "execution_count": 145,
     "metadata": {},
     "output_type": "execute_result"
    },
    {
     "data": {
      "image/png": "[encoded data removed]",
      "text/plain": [
       "<Figure size 432x288 with 1 Axes>"
      ]
     },
     "metadata": {
      "needs_background": "light"
     },
     "output_type": "display_data"
    }
   ],
   "source": [
    "times['tweet_created_at'].dt.hour.hist()"
   ]
  },
  {
   "cell_type": "code",
   "execution_count": 205,
   "metadata": {},
   "outputs": [
    {
     "data": {
      "text/plain": [
       "0     200930\n",
       "1     196636\n",
       "2     193647\n",
       "3     189481\n",
       "4     164810\n",
       "5     138448\n",
       "6     114247\n",
       "7     100572\n",
       "8      86537\n",
       "9      84418\n",
       "10     98041\n",
       "11    118440\n",
       "12    149892\n",
       "13    175510\n",
       "14    196799\n",
       "15    207410\n",
       "16    212230\n",
       "17    211653\n",
       "18    212579\n",
       "19    208225\n",
       "20    212814\n",
       "21    201811\n",
       "22    197418\n",
       "23    197631\n",
       "Name: tweet_created_at, dtype: int64"
      ]
     },
     "execution_count": 205,
     "metadata": {},
     "output_type": "execute_result"
    }
   ],
   "source": [
    "# ALL\n",
    "tweetsPerHour = times['tweet_created_at'].dt.hour.value_counts().sort_index()\n",
    "tweetsPerHour"
   ]
  },
  {
   "cell_type": "code",
   "execution_count": 199,
   "metadata": {},
   "outputs": [
    {
     "data": {
      "text/plain": [
       "0      88845\n",
       "1      87876\n",
       "2      89310\n",
       "3      90072\n",
       "4      86174\n",
       "5      77762\n",
       "6      68591\n",
       "7      61994\n",
       "8      52659\n",
       "9      50102\n",
       "10     55318\n",
       "11     66999\n",
       "12     80704\n",
       "13     93212\n",
       "14    102369\n",
       "15    107496\n",
       "16    107373\n",
       "17    105839\n",
       "18    104614\n",
       "19     92284\n",
       "20     91380\n",
       "21     88603\n",
       "22     90593\n",
       "23     91788\n",
       "Name: tweet_created_at, dtype: int64"
      ]
     },
     "execution_count": 199,
     "metadata": {},
     "output_type": "execute_result"
    }
   ],
   "source": [
    "harvard = df['School']=='Harvard'\n",
    "dfharvard = df[harvard]\n",
    "tweetsPerHour = dfharvard['tweet_created_at'].dt.hour.value_counts().sort_index()\n",
    "tweetsPerHour"
   ]
  },
  {
   "cell_type": "code",
   "execution_count": 201,
   "metadata": {},
   "outputs": [
    {
     "data": {
      "text/plain": [
       "0     23190\n",
       "1     21378\n",
       "2     20134\n",
       "3     21583\n",
       "4     18647\n",
       "5     16001\n",
       "6     12717\n",
       "7     11483\n",
       "8      9429\n",
       "9      9433\n",
       "10    10407\n",
       "11    13061\n",
       "12    16824\n",
       "13    19018\n",
       "14    22115\n",
       "15    22181\n",
       "16    22919\n",
       "17    25782\n",
       "18    27693\n",
       "19    29394\n",
       "20    27934\n",
       "21    25530\n",
       "22    24835\n",
       "23    22627\n",
       "Name: tweet_created_at, dtype: int64"
      ]
     },
     "execution_count": 201,
     "metadata": {},
     "output_type": "execute_result"
    }
   ],
   "source": [
    "yale = df['School']=='Yale'\n",
    "dfyale = df[yale]\n",
    "tweetsPerHour = dfyale['tweet_created_at'].dt.hour.value_counts().sort_index()\n",
    "tweetsPerHour"
   ]
  },
  {
   "cell_type": "code",
   "execution_count": 202,
   "metadata": {},
   "outputs": [
    {
     "data": {
      "text/plain": [
       "0     67867\n",
       "1     65906\n",
       "2     63663\n",
       "3     57635\n",
       "4     43062\n",
       "5     30364\n",
       "6     21233\n",
       "7     17348\n",
       "8     15492\n",
       "9     16862\n",
       "10    19705\n",
       "11    26165\n",
       "12    36065\n",
       "13    43629\n",
       "14    51434\n",
       "15    55326\n",
       "16    59017\n",
       "17    57238\n",
       "18    55986\n",
       "19    61781\n",
       "20    70259\n",
       "21    65135\n",
       "22    59193\n",
       "23    61277\n",
       "Name: tweet_created_at, dtype: int64"
      ]
     },
     "execution_count": 202,
     "metadata": {},
     "output_type": "execute_result"
    }
   ],
   "source": [
    "northwestern = df['School']=='Northwestern'\n",
    "dfnorthwestern = df[northwestern]\n",
    "tweetsPerHour = dfnorthwestern['tweet_created_at'].dt.hour.value_counts().sort_index()\n",
    "tweetsPerHour"
   ]
  },
  {
   "cell_type": "code",
   "execution_count": 203,
   "metadata": {},
   "outputs": [
    {
     "data": {
      "text/plain": [
       "0     21028\n",
       "1     21476\n",
       "2     20540\n",
       "3     20191\n",
       "4     16927\n",
       "5     14321\n",
       "6     11706\n",
       "7      9747\n",
       "8      8957\n",
       "9      8021\n",
       "10    12611\n",
       "11    12215\n",
       "12    16299\n",
       "13    19651\n",
       "14    20881\n",
       "15    22407\n",
       "16    22921\n",
       "17    22794\n",
       "18    24286\n",
       "19    24766\n",
       "20    23241\n",
       "21    22543\n",
       "22    22797\n",
       "23    21939\n",
       "Name: tweet_created_at, dtype: int64"
      ]
     },
     "execution_count": 203,
     "metadata": {},
     "output_type": "execute_result"
    }
   ],
   "source": [
    "uChicago = df['School']=='uChicago'\n",
    "dfuChicago = df[uChicago]\n",
    "tweetsPerHour = dfuChicago['tweet_created_at'].dt.hour.value_counts().sort_index()\n",
    "tweetsPerHour"
   ]
  },
  {
   "cell_type": "code",
   "execution_count": 137,
   "metadata": {},
   "outputs": [],
   "source": [
    "harvard = df['School']=='Harvard'\n",
    "times = harvard[['School','tweet_created_at']]\n",
    "tweetsPerHour = times['tweet_created_at'].dt.hour.value_counts().sort_index()"
   ]
  },
  {
   "cell_type": "code",
   "execution_count": 190,
   "metadata": {},
   "outputs": [
    {
     "data": {
      "text/plain": [
       "0     200930\n",
       "1     196636\n",
       "2     193647\n",
       "3     189481\n",
       "4     164810\n",
       "5     138448\n",
       "6     114247\n",
       "7     100572\n",
       "8      86537\n",
       "9      84418\n",
       "10     98041\n",
       "11    118440\n",
       "12    149892\n",
       "13    175510\n",
       "14    196799\n",
       "15    207410\n",
       "16    212230\n",
       "17    211653\n",
       "18    212579\n",
       "19    208225\n",
       "20    212814\n",
       "21    201811\n",
       "22    197418\n",
       "23    197631\n",
       "Name: tweet_created_at, dtype: int64"
      ]
     },
     "execution_count": 190,
     "metadata": {},
     "output_type": "execute_result"
    }
   ],
   "source": [
    "tweetsPerHour"
   ]
  },
  {
   "cell_type": "code",
   "execution_count": 143,
   "metadata": {},
   "outputs": [
    {
     "data": {
      "text/plain": [
       "0     200930\n",
       "1     196636\n",
       "2     193647\n",
       "3     189481\n",
       "4     164810\n",
       "5     138448\n",
       "6     114247\n",
       "7     100572\n",
       "8      86537\n",
       "9      84418\n",
       "10     98041\n",
       "11    118440\n",
       "12    149892\n",
       "13    175510\n",
       "14    196799\n",
       "15    207410\n",
       "16    212230\n",
       "17    211653\n",
       "18    212579\n",
       "19    208225\n",
       "20    212814\n",
       "21    201811\n",
       "22    197418\n",
       "23    197631\n",
       "Name: tweet_created_at, dtype: int64"
      ]
     },
     "execution_count": 143,
     "metadata": {},
     "output_type": "execute_result"
    }
   ],
   "source": [
    "tweetsPerHour"
   ]
  },
  {
   "cell_type": "code",
   "execution_count": 142,
   "metadata": {},
   "outputs": [
    {
     "data": {
      "image/png": "[encoded data removed]",
      "text/plain": [
       "<Figure size 432x288 with 1 Axes>"
      ]
     },
     "metadata": {
      "needs_background": "light"
     },
     "output_type": "display_data"
    }
   ],
   "source": [
    "import matplotlib.pyplot as plt\n",
    "%matplotlib inline\n",
    "\n",
    "p = plt.plot(tweetsPerHour.index, tweetsPerHour.values)"
   ]
  },
  {
   "cell_type": "code",
   "execution_count": 185,
   "metadata": {},
   "outputs": [],
   "source": [
    "# Group the data frame by month and item and extract a number of stats from each group\n",
    "df.set_index('tweet_created_at_hour', inplace=True)\n",
    "\n",
    "timingbySchool = df.groupby(['School', 'tweet_created_at_hour']).agg(\n",
    "    tweets = pd.NamedAgg(column='tweet_created_at_hour', aggfunc = 'count')\n",
    ")"
   ]
  },
  {
   "cell_type": "code",
   "execution_count": 189,
   "metadata": {},
   "outputs": [
    {
     "data": {
      "text/html": [
       "<div>\n",
       "<style scoped>\n",
       "    .dataframe tbody tr th:only-of-type {\n",
       "        vertical-align: middle;\n",
       "    }\n",
       "\n",
       "    .dataframe tbody tr th {\n",
       "        vertical-align: top;\n",
       "    }\n",
       "\n",
       "    .dataframe thead th {\n",
       "        text-align: right;\n",
       "    }\n",
       "</style>\n",
       "<table border=\"1\" class=\"dataframe\">\n",
       "  <thead>\n",
       "    <tr style=\"text-align: right;\">\n",
       "      <th></th>\n",
       "      <th></th>\n",
       "      <th>tweets</th>\n",
       "    </tr>\n",
       "    <tr>\n",
       "      <th>School</th>\n",
       "      <th>tweet_created_at_hour</th>\n",
       "      <th></th>\n",
       "    </tr>\n",
       "  </thead>\n",
       "  <tbody>\n",
       "    <tr>\n",
       "      <th rowspan=\"5\" valign=\"top\">Harvard</th>\n",
       "      <th>0</th>\n",
       "      <td>88845</td>\n",
       "    </tr>\n",
       "    <tr>\n",
       "      <th>1</th>\n",
       "      <td>87876</td>\n",
       "    </tr>\n",
       "    <tr>\n",
       "      <th>2</th>\n",
       "      <td>89310</td>\n",
       "    </tr>\n",
       "    <tr>\n",
       "      <th>3</th>\n",
       "      <td>90072</td>\n",
       "    </tr>\n",
       "    <tr>\n",
       "      <th>4</th>\n",
       "      <td>86174</td>\n",
       "    </tr>\n",
       "    <tr>\n",
       "      <th>...</th>\n",
       "      <th>...</th>\n",
       "      <td>...</td>\n",
       "    </tr>\n",
       "    <tr>\n",
       "      <th rowspan=\"5\" valign=\"top\">uChicago</th>\n",
       "      <th>19</th>\n",
       "      <td>24766</td>\n",
       "    </tr>\n",
       "    <tr>\n",
       "      <th>20</th>\n",
       "      <td>23241</td>\n",
       "    </tr>\n",
       "    <tr>\n",
       "      <th>21</th>\n",
       "      <td>22543</td>\n",
       "    </tr>\n",
       "    <tr>\n",
       "      <th>22</th>\n",
       "      <td>22797</td>\n",
       "    </tr>\n",
       "    <tr>\n",
       "      <th>23</th>\n",
       "      <td>21939</td>\n",
       "    </tr>\n",
       "  </tbody>\n",
       "</table>\n",
       "<p>96 rows × 1 columns</p>\n",
       "</div>"
      ],
      "text/plain": [
       "                                tweets\n",
       "School   tweet_created_at_hour        \n",
       "Harvard  0                       88845\n",
       "         1                       87876\n",
       "         2                       89310\n",
       "         3                       90072\n",
       "         4                       86174\n",
       "...                                ...\n",
       "uChicago 19                      24766\n",
       "         20                      23241\n",
       "         21                      22543\n",
       "         22                      22797\n",
       "         23                      21939\n",
       "\n",
       "[96 rows x 1 columns]"
      ]
     },
     "execution_count": 189,
     "metadata": {},
     "output_type": "execute_result"
    }
   ],
   "source": [
    "timingbySchool.head(100) #TODO if time extract this and plot it in presentation"
   ]
  },
  {
   "cell_type": "markdown",
   "metadata": {},
   "source": [
    "## How unique are the messages for each of these universities?\n",
    " - Are they mostly unique? Or mostly people are just copy-pasting the same text?\n",
    " - You can use something like Jaccard similarity / Cosine Similarity / Simhash / Minhash to measure uniqueness / similarity\n",
    " - Visualize message duplication (for each university – not between the universities)\n",
    " - Please note: this is not a topic modeling (LDA / LSA) – but text similarity analysis."
   ]
  },
  {
   "cell_type": "code",
   "execution_count": 273,
   "metadata": {},
   "outputs": [
    {
     "data": {
      "text/html": [
       "<div>\n",
       "<style scoped>\n",
       "    .dataframe tbody tr th:only-of-type {\n",
       "        vertical-align: middle;\n",
       "    }\n",
       "\n",
       "    .dataframe tbody tr th {\n",
       "        vertical-align: top;\n",
       "    }\n",
       "\n",
       "    .dataframe thead th {\n",
       "        text-align: right;\n",
       "    }\n",
       "</style>\n",
       "<table border=\"1\" class=\"dataframe\">\n",
       "  <thead>\n",
       "    <tr style=\"text-align: right;\">\n",
       "      <th></th>\n",
       "      <th>user_id</th>\n",
       "      <th>friends_count</th>\n",
       "      <th>user_location</th>\n",
       "      <th>user_name</th>\n",
       "      <th>user_screen_name</th>\n",
       "      <th>user_created_at</th>\n",
       "      <th>user_created_at_date</th>\n",
       "      <th>description</th>\n",
       "      <th>favourites_count</th>\n",
       "      <th>user_followers_count</th>\n",
       "      <th>...</th>\n",
       "      <th>retweeted_count</th>\n",
       "      <th>retweet_created_at</th>\n",
       "      <th>retweet_created_at_date</th>\n",
       "      <th>retweet_lag_minutes</th>\n",
       "      <th>retweeted_status_followers_count</th>\n",
       "      <th>retweet_user_name</th>\n",
       "      <th>retweet_user_location</th>\n",
       "      <th>length_of_text</th>\n",
       "      <th>School</th>\n",
       "      <th>tweet_created_at_hour</th>\n",
       "    </tr>\n",
       "  </thead>\n",
       "  <tbody>\n",
       "    <tr>\n",
       "      <th>0</th>\n",
       "      <td>\\n741067300866916352</td>\n",
       "      <td>2076.0</td>\n",
       "      <td>San Francisco, CA</td>\n",
       "      <td>Nathan Mannas</td>\n",
       "      <td>ncMannas</td>\n",
       "      <td>2016-06-10 00:39:47</td>\n",
       "      <td>2016-06-10</td>\n",
       "      <td>Food, the arts, sports and tech. A new account, a fresh start.</td>\n",
       "      <td>12343.0</td>\n",
       "      <td>1260</td>\n",
       "      <td>...</td>\n",
       "      <td>50.0</td>\n",
       "      <td>2017-06-22 17:41:07</td>\n",
       "      <td>2017-06-22</td>\n",
       "      <td>341.0</td>\n",
       "      <td>140549.0</td>\n",
       "      <td>History in Moments</td>\n",
       "      <td>NaN</td>\n",
       "      <td>85.0</td>\n",
       "      <td>Harvard</td>\n",
       "      <td>23</td>\n",
       "    </tr>\n",
       "  </tbody>\n",
       "</table>\n",
       "<p>1 rows × 26 columns</p>\n",
       "</div>"
      ],
      "text/plain": [
       "                user_id  friends_count      user_location      user_name  \\\n",
       "0  \\n741067300866916352         2076.0  San Francisco, CA  Nathan Mannas   \n",
       "\n",
       "  user_screen_name      user_created_at user_created_at_date  \\\n",
       "0         ncMannas  2016-06-10 00:39:47           2016-06-10   \n",
       "\n",
       "                                                      description  \\\n",
       "0  Food, the arts, sports and tech. A new account, a fresh start.   \n",
       "\n",
       "   favourites_count user_followers_count  ... retweeted_count  \\\n",
       "0           12343.0                 1260  ...            50.0   \n",
       "\n",
       "    retweet_created_at retweet_created_at_date retweet_lag_minutes  \\\n",
       "0  2017-06-22 17:41:07              2017-06-22               341.0   \n",
       "\n",
       "  retweeted_status_followers_count   retweet_user_name  retweet_user_location  \\\n",
       "0                         140549.0  History in Moments                    NaN   \n",
       "\n",
       "  length_of_text   School  tweet_created_at_hour  \n",
       "0           85.0  Harvard                     23  \n",
       "\n",
       "[1 rows x 26 columns]"
      ]
     },
     "execution_count": 273,
     "metadata": {},
     "output_type": "execute_result"
    }
   ],
   "source": [
    "df.head(1)"
   ]
  },
  {
   "cell_type": "code",
   "execution_count": 289,
   "metadata": {},
   "outputs": [],
   "source": [
    "# Creating a SparkDF of only our titles\n",
    "text_df = df['text']"
   ]
  },
  {
   "cell_type": "code",
   "execution_count": 290,
   "metadata": {},
   "outputs": [],
   "source": [
    "my_text = pd.DataFrame(text_df)"
   ]
  },
  {
   "cell_type": "code",
   "execution_count": 291,
   "metadata": {},
   "outputs": [
    {
     "data": {
      "text/html": [
       "<div>\n",
       "<style scoped>\n",
       "    .dataframe tbody tr th:only-of-type {\n",
       "        vertical-align: middle;\n",
       "    }\n",
       "\n",
       "    .dataframe tbody tr th {\n",
       "        vertical-align: top;\n",
       "    }\n",
       "\n",
       "    .dataframe thead th {\n",
       "        text-align: right;\n",
       "    }\n",
       "</style>\n",
       "<table border=\"1\" class=\"dataframe\">\n",
       "  <thead>\n",
       "    <tr style=\"text-align: right;\">\n",
       "      <th></th>\n",
       "      <th>text</th>\n",
       "    </tr>\n",
       "  </thead>\n",
       "  <tbody>\n",
       "    <tr>\n",
       "      <th>0</th>\n",
       "      <td>rt @historyinmoment: barack obama at harvard university 1988. https://t.co/dfdhezfsrh</td>\n",
       "    </tr>\n",
       "  </tbody>\n",
       "</table>\n",
       "</div>"
      ],
      "text/plain": [
       "                                                                                    text\n",
       "0  rt @historyinmoment: barack obama at harvard university 1988. https://t.co/dfdhezfsrh"
      ]
     },
     "execution_count": 291,
     "metadata": {},
     "output_type": "execute_result"
    }
   ],
   "source": [
    "my_text.head(1)"
   ]
  },
  {
   "cell_type": "code",
   "execution_count": 292,
   "metadata": {},
   "outputs": [],
   "source": [
    "# Write for safe keeping and easier starting later on\n",
    "my_text.to_csv(r'text_only.csv', index = False, header = True)"
   ]
  },
  {
   "cell_type": "code",
   "execution_count": 293,
   "metadata": {},
   "outputs": [
    {
     "name": "stdout",
     "output_type": "stream",
     "text": [
      "Wall time: 5.7 s\n"
     ]
    }
   ],
   "source": [
    "## So I had to import it using pandas then convert it to a spark DF\n",
    "%time my_new_text = pd.read_csv('text_only.csv')"
   ]
  },
  {
   "cell_type": "code",
   "execution_count": 295,
   "metadata": {},
   "outputs": [
    {
     "data": {
      "text/html": [
       "<div>\n",
       "<style scoped>\n",
       "    .dataframe tbody tr th:only-of-type {\n",
       "        vertical-align: middle;\n",
       "    }\n",
       "\n",
       "    .dataframe tbody tr th {\n",
       "        vertical-align: top;\n",
       "    }\n",
       "\n",
       "    .dataframe thead th {\n",
       "        text-align: right;\n",
       "    }\n",
       "</style>\n",
       "<table border=\"1\" class=\"dataframe\">\n",
       "  <thead>\n",
       "    <tr style=\"text-align: right;\">\n",
       "      <th></th>\n",
       "      <th>text</th>\n",
       "    </tr>\n",
       "  </thead>\n",
       "  <tbody>\n",
       "    <tr>\n",
       "      <th>0</th>\n",
       "      <td>rt @historyinmoment: barack obama at harvard university 1988. https://t.co/dfdhezfsrh</td>\n",
       "    </tr>\n",
       "    <tr>\n",
       "      <th>1</th>\n",
       "      <td>rt @daveweasel: @realdonaldtrump i know harvard doesn't have the same reputation as trump university, but... https://t.co/rogy16r1kc</td>\n",
       "    </tr>\n",
       "    <tr>\n",
       "      <th>2</th>\n",
       "      <td>rt @daveweasel: @realdonaldtrump i know harvard doesn't have the same reputation as trump university, but... https://t.co/rogy16r1kc</td>\n",
       "    </tr>\n",
       "    <tr>\n",
       "      <th>3</th>\n",
       "      <td>rt @upfrontafrica: emperor haile selassie visits #ethiopian students at harvard university in 1963 #throwbackthursday https://t.co/flwijdqj…</td>\n",
       "    </tr>\n",
       "    <tr>\n",
       "      <th>4</th>\n",
       "      <td>rt @daveweasel: @realdonaldtrump i know harvard doesn't have the same reputation as trump university, but... https://t.co/rogy16r1kc</td>\n",
       "    </tr>\n",
       "  </tbody>\n",
       "</table>\n",
       "</div>"
      ],
      "text/plain": [
       "                                                                                                                                           text\n",
       "0                                                         rt @historyinmoment: barack obama at harvard university 1988. https://t.co/dfdhezfsrh\n",
       "1          rt @daveweasel: @realdonaldtrump i know harvard doesn't have the same reputation as trump university, but... https://t.co/rogy16r1kc\n",
       "2          rt @daveweasel: @realdonaldtrump i know harvard doesn't have the same reputation as trump university, but... https://t.co/rogy16r1kc\n",
       "3  rt @upfrontafrica: emperor haile selassie visits #ethiopian students at harvard university in 1963 #throwbackthursday https://t.co/flwijdqj…\n",
       "4          rt @daveweasel: @realdonaldtrump i know harvard doesn't have the same reputation as trump university, but... https://t.co/rogy16r1kc"
      ]
     },
     "execution_count": 295,
     "metadata": {},
     "output_type": "execute_result"
    }
   ],
   "source": [
    "my_new_text.head()"
   ]
  },
  {
   "cell_type": "markdown",
   "metadata": {},
   "source": [
    "#### Similarity analysis completed in GCS"
   ]
  }
 ],
 "metadata": {
  "kernelspec": {
   "display_name": "Python 3",
   "language": "python",
   "name": "python3"
  },
  "language_info": {
   "codemirror_mode": {
    "name": "ipython",
    "version": 3
   },
   "file_extension": ".py",
   "mimetype": "text/x-python",
   "name": "python",
   "nbconvert_exporter": "python",
   "pygments_lexer": "ipython3",
   "version": "3.7.4"
  },
  "toc": {
   "base_numbering": 1,
   "nav_menu": {},
   "number_sections": false,
   "sideBar": true,
   "skip_h1_title": false,
   "title_cell": "Table of Contents",
   "title_sidebar": "Contents",
   "toc_cell": false,
   "toc_position": {},
   "toc_section_display": true,
   "toc_window_display": true
  },
  "varInspector": {
   "cols": {
    "lenName": 16,
    "lenType": 16,
    "lenVar": 40
   },
   "kernels_config": {
    "python": {
     "delete_cmd_postfix": "",
     "delete_cmd_prefix": "del ",
     "library": "var_list.py",
     "varRefreshCmd": "print(var_dic_list())"
    },
    "r": {
     "delete_cmd_postfix": ") ",
     "delete_cmd_prefix": "rm(",
     "library": "var_list.r",
     "varRefreshCmd": "cat(var_dic_list()) "
    }
   },
   "types_to_exclude": [
    "module",
    "function",
    "builtin_function_or_method",
    "instance",
    "_Feature"
   ],
   "window_display": false
  }
 },
 "nbformat": 4,
 "nbformat_minor": 4
}
