{
 "cells": [
  {
   "cell_type": "markdown",
   "metadata": {},
   "source": [
    "# Final Project\n",
    "\n",
    "Big Data Platforms </br>Nic Carlson"
   ]
  },
  {
   "cell_type": "code",
   "execution_count": 1,
   "metadata": {},
   "outputs": [
    {
     "data": {
      "text/plain": [
       "'Mon, 15 March 2021 19:23:18'"
      ]
     },
     "execution_count": 1,
     "metadata": {},
     "output_type": "execute_result"
    }
   ],
   "source": [
    "# Date notebook was last run\n",
    "import datetime\n",
    "import pytz\n",
    "\n",
    "datetime.datetime.now(pytz.timezone('US/Central')).strftime(\"%a, %d %B %Y %H:%M:%S\")"
   ]
  },
  {
   "cell_type": "markdown",
   "metadata": {},
   "source": [
    "## Setup environment"
   ]
  },
  {
   "cell_type": "code",
   "execution_count": 2,
   "metadata": {},
   "outputs": [
    {
     "name": "stdout",
     "output_type": "stream",
     "text": [
      "3.0.1\n"
     ]
    }
   ],
   "source": [
    "#Ensure we are using the right kernel\n",
    "print (sc.version)"
   ]
  },
  {
   "cell_type": "code",
   "execution_count": 3,
   "metadata": {},
   "outputs": [
    {
     "name": "stderr",
     "output_type": "stream",
     "text": [
      "[nltk_data] Downloading package stopwords to /root/nltk_data...\n",
      "[nltk_data]   Unzipping corpora/stopwords.zip.\n"
     ]
    }
   ],
   "source": [
    "# Environment\n",
    "from google.cloud import storage\n",
    "import io\n",
    "import os\n",
    "import subprocess\n",
    "import shutil\n",
    "warnings.filterwarnings(action='ignore')\n",
    "\n",
    "import pyspark.sql.functions as F\n",
    "import pandas as pd\n",
    "import re\n",
    "import json\n",
    "from itertools import combinations, takewhile\n",
    "import collections\n",
    "\n",
    "# Data analysis and visualization\n",
    "from pyspark.ml.feature import MinHashLSH\n",
    "from pyspark.ml.feature import CountVectorizer,  IDF, CountVectorizerModel, Tokenizer, RegexTokenizer, StopWordsRemover\n",
    "import nltk\n",
    "from nltk.corpus import stopwords\n",
    "nltk.download('stopwords')\n",
    "from itertools import compress \n",
    "import seaborn as sns\n",
    "import matplotlib.pyplot as plt\n",
    "\n",
    "# Data selection and transformation\n",
    "from pyspark.sql import Row\n",
    "from pyspark.sql.functions import *\n",
    "from pyspark.sql.types import *\n",
    "from pyspark.sql import SQLContext\n",
    "spark.conf.set(\"spark.sql.repl.eagerEval.enabled\",True)\n",
    "pd.set_option('display.max_colwidth', None)\n",
    "pd.reset_option('display.max_rows')"
   ]
  },
  {
   "cell_type": "markdown",
   "metadata": {},
   "source": [
    "## Pulling Tweets"
   ]
  },
  {
   "cell_type": "code",
   "execution_count": 4,
   "metadata": {},
   "outputs": [],
   "source": [
    "directory = 'gs://msca-bdp-tweets/Tweets/'\n",
    "file = 'tweets201706221015.json'\n",
    "# file = '*.json'\n",
    "path = directory + file"
   ]
  },
  {
   "cell_type": "code",
   "execution_count": 5,
   "metadata": {},
   "outputs": [
    {
     "name": "stdout",
     "output_type": "stream",
     "text": [
      "2.2 T  2.2 T  gs://msca-bdp-tweets/Tweets\n"
     ]
    }
   ],
   "source": [
    "!hadoop fs -du -s -h 'gs://msca-bdp-tweets/Tweets/'"
   ]
  },
  {
   "cell_type": "code",
   "execution_count": 5,
   "metadata": {},
   "outputs": [
    {
     "name": "stdout",
     "output_type": "stream",
     "text": [
      "CPU times: user 3.78 ms, sys: 947 µs, total: 4.72 ms\n",
      "Wall time: 9.71 s\n"
     ]
    }
   ],
   "source": [
    "#SAMPLE\n",
    "# %time tweets_df = spark.read.json(path)"
   ]
  },
  {
   "cell_type": "code",
   "execution_count": null,
   "metadata": {},
   "outputs": [
    {
     "name": "stdout",
     "output_type": "stream",
     "text": [
      "CPU times: user 226 ms, sys: 70.5 ms, total: 296 ms\n",
      "Wall time: 25min\n"
     ]
    }
   ],
   "source": [
    "#Read ALLLLLLL THE TWEEETS!!!!\n",
    "# DON\"T DO THIS AGAIN UNTIL YOU\"RE READY TO FILTER AND SAVE THE DATA. TOOK 26 MINUTES\n",
    "%time tweets_df = spark.read.json(directory)"
   ]
  },
  {
   "cell_type": "code",
   "execution_count": null,
   "metadata": {},
   "outputs": [
    {
     "name": "stdout",
     "output_type": "stream",
     "text": [
      "Done!\n"
     ]
    }
   ],
   "source": [
    "print(\"Done!\")"
   ]
  },
  {
   "cell_type": "code",
   "execution_count": null,
   "metadata": {},
   "outputs": [],
   "source": [
    "# %time tweets_df.count()"
   ]
  },
  {
   "cell_type": "markdown",
   "metadata": {},
   "source": [
    "### Exploring Data"
   ]
  },
  {
   "cell_type": "code",
   "execution_count": 26,
   "metadata": {},
   "outputs": [],
   "source": [
    "# tweets_df.printSchema()"
   ]
  },
  {
   "cell_type": "code",
   "execution_count": 8,
   "metadata": {},
   "outputs": [
    {
     "data": {
      "text/html": [
       "<table border='1'>\n",
       "<tr><th>contributors</th><th>coordinates</th><th>created_at</th><th>display_text_range</th><th>entities</th><th>extended_entities</th><th>extended_tweet</th><th>favorite_count</th><th>favorited</th><th>filter_level</th><th>geo</th><th>id</th><th>id_str</th><th>in_reply_to_screen_name</th><th>in_reply_to_status_id</th><th>in_reply_to_status_id_str</th><th>in_reply_to_user_id</th><th>in_reply_to_user_id_str</th><th>is_quote_status</th><th>lang</th><th>limit</th><th>place</th><th>possibly_sensitive</th><th>quoted_status</th><th>quoted_status_id</th><th>quoted_status_id_str</th><th>retweet_count</th><th>retweeted</th><th>retweeted_status</th><th>source</th><th>text</th><th>timestamp_ms</th><th>truncated</th><th>user</th><th>withheld_in_countries</th></tr>\n",
       "<tr><td>null</td><td>null</td><td>Thu Jun 22 14:15:...</td><td>null</td><td>[[],, [], [[stanf...</td><td>null</td><td>null</td><td>0</td><td>false</td><td>low</td><td>null</td><td>877892686513975296</td><td>877892686513975296</td><td>null</td><td>null</td><td>null</td><td>null</td><td>null</td><td>false</td><td>en</td><td>null</td><td>null</td><td>false</td><td>null</td><td>null</td><td>null</td><td>0</td><td>false</td><td>[,, Thu Jun 22 14...</td><td>&lt;a href=&quot;http://t...</td><td>RT @ArkansasBlog:...</td><td>1498140901579</td><td>false</td><td>[false, Sun Jun 1...</td><td>null</td></tr>\n",
       "<tr><td>null</td><td>null</td><td>Thu Jun 22 14:15:...</td><td>[0, 140]</td><td>[[],, [], [[twitt...</td><td>null</td><td>[[0, 129], [[[[11...</td><td>0</td><td>false</td><td>low</td><td>null</td><td>877892684756566016</td><td>877892684756566016</td><td>null</td><td>null</td><td>null</td><td>null</td><td>null</td><td>false</td><td>en</td><td>null</td><td>null</td><td>false</td><td>null</td><td>null</td><td>null</td><td>0</td><td>false</td><td>null</td><td>&lt;a href=&quot;https://...</td><td>IL Healthcare Tru...</td><td>1498140901160</td><td>true</td><td>[false, Fri Jun 2...</td><td>null</td></tr>\n",
       "<tr><td>null</td><td>null</td><td>Thu Jun 22 14:15:...</td><td>[0, 140]</td><td>[[],, [], [[twitt...</td><td>null</td><td>[[0, 129], [[[[11...</td><td>0</td><td>false</td><td>low</td><td>null</td><td>877892686744698882</td><td>877892686744698882</td><td>null</td><td>null</td><td>null</td><td>null</td><td>null</td><td>false</td><td>en</td><td>null</td><td>null</td><td>false</td><td>null</td><td>null</td><td>null</td><td>0</td><td>false</td><td>null</td><td>&lt;a href=&quot;https://...</td><td>IL Healthcare Tru...</td><td>1498140901634</td><td>true</td><td>[false, Thu Feb 0...</td><td>null</td></tr>\n",
       "</table>\n"
      ],
      "text/plain": [
       "+------------+-----------+--------------------+------------------+--------------------+-----------------+--------------------+--------------+---------+------------+----+------------------+------------------+-----------------------+---------------------+-------------------------+-------------------+-----------------------+---------------+----+-----+-----+------------------+-------------+----------------+--------------------+-------------+---------+--------------------+--------------------+--------------------+-------------+---------+--------------------+---------------------+\n",
       "|contributors|coordinates|          created_at|display_text_range|            entities|extended_entities|      extended_tweet|favorite_count|favorited|filter_level| geo|                id|            id_str|in_reply_to_screen_name|in_reply_to_status_id|in_reply_to_status_id_str|in_reply_to_user_id|in_reply_to_user_id_str|is_quote_status|lang|limit|place|possibly_sensitive|quoted_status|quoted_status_id|quoted_status_id_str|retweet_count|retweeted|    retweeted_status|              source|                text| timestamp_ms|truncated|                user|withheld_in_countries|\n",
       "+------------+-----------+--------------------+------------------+--------------------+-----------------+--------------------+--------------+---------+------------+----+------------------+------------------+-----------------------+---------------------+-------------------------+-------------------+-----------------------+---------------+----+-----+-----+------------------+-------------+----------------+--------------------+-------------+---------+--------------------+--------------------+--------------------+-------------+---------+--------------------+---------------------+\n",
       "|        null|       null|Thu Jun 22 14:15:...|              null|[[],, [], [[stanf...|             null|                null|             0|    false|         low|null|877892686513975296|877892686513975296|                   null|                 null|                     null|               null|                   null|          false|  en| null| null|             false|         null|            null|                null|            0|    false|[,, Thu Jun 22 14...|<a href=\"http://t...|RT @ArkansasBlog:...|1498140901579|    false|[false, Sun Jun 1...|                 null|\n",
       "|        null|       null|Thu Jun 22 14:15:...|          [0, 140]|[[],, [], [[twitt...|             null|[[0, 129], [[[[11...|             0|    false|         low|null|877892684756566016|877892684756566016|                   null|                 null|                     null|               null|                   null|          false|  en| null| null|             false|         null|            null|                null|            0|    false|                null|<a href=\"https://...|IL Healthcare Tru...|1498140901160|     true|[false, Fri Jun 2...|                 null|\n",
       "|        null|       null|Thu Jun 22 14:15:...|          [0, 140]|[[],, [], [[twitt...|             null|[[0, 129], [[[[11...|             0|    false|         low|null|877892686744698882|877892686744698882|                   null|                 null|                     null|               null|                   null|          false|  en| null| null|             false|         null|            null|                null|            0|    false|                null|<a href=\"https://...|IL Healthcare Tru...|1498140901634|     true|[false, Thu Feb 0...|                 null|\n",
       "+------------+-----------+--------------------+------------------+--------------------+-----------------+--------------------+--------------+---------+------------+----+------------------+------------------+-----------------------+---------------------+-------------------------+-------------------+-----------------------+---------------+----+-----+-----+------------------+-------------+----------------+--------------------+-------------+---------+--------------------+--------------------+--------------------+-------------+---------+--------------------+---------------------+"
      ]
     },
     "execution_count": 8,
     "metadata": {},
     "output_type": "execute_result"
    }
   ],
   "source": [
    "tweets_df.limit(3)"
   ]
  },
  {
   "cell_type": "markdown",
   "metadata": {},
   "source": [
    "## Complete thorough EDA to identify which variables you can use to profile the Twitterers"
   ]
  },
  {
   "cell_type": "markdown",
   "metadata": {},
   "source": [
    "### Features selection process (and post-selection filtering for sparse coluns)"
   ]
  },
  {
   "cell_type": "markdown",
   "metadata": {},
   "source": [
    "My process went as such:\n",
    " \n",
    " - I read through Twitter's documentation to get a sense of the Tweet metadata json file\n",
    " - Then read through the schema and noted down the features I thought might be interesting/helpful\n",
    " - Afterwards, I pulled all of these into a SparkDF and for each column, calculated the percent of cells that had data\n",
    " - From there, I selected rows that were at least 80% filled"
   ]
  },
  {
   "cell_type": "code",
   "execution_count": 11,
   "metadata": {},
   "outputs": [],
   "source": [
    "# mydf = relevantTweets.selectExpr(['contributors as contributors1', 'coordinates.coordinates as tweet_coordinates', 'created_at as tweet_created_at', 'entities.hashtags as tweet_hashtags', 'entities.media.type as media_type', 'entities.media.media_url', 'entities.user_mentions', 'favorite_count as tweet_favorite_count', 'favorited as tweet_favorited',\n",
    "#                          'geo.coordinates as tweet_geo_coordinates', 'id as tweet_id', 'in_reply_to_screen_name as original_screen_name', 'in_reply_to_status_id as original_tweet_id', 'is_quote_status', 'lang as tweet_lang', 'place.bounding_box.coordinates as reply_coordinates', \n",
    "#                          'place.country as tweet_country', 'place.country_code as tweet_country_code', 'place.name as tweet_place_name', 'possibly_sensitive',\n",
    "#                          'quoted_status.entities.hashtags.text as quoted_hastags', 'retweet_count', 'retweeted', 'retweeted_status', 'retweeted_status.coordinates.coordinates as retweeted_coordinates', 'retweeted_status.entities', \n",
    "#                          'retweeted_status.entities.hashtags as retweeted_status_hashtags', 'retweeted_status.contributors as retweeted_status_contributors', 'retweeted_status.coordinates.coordinates as retweet_coordinates', 'retweeted_status.created_at as retweet_created_at', \n",
    "#                          'retweeted_status.extended_tweet.full_text', 'retweeted_status.favorite_count as retweet_favorited_count', 'retweeted_status.favorited as retweet_favorited', \n",
    "#                          'retweeted_status.id as retweet_id', 'retweeted_status.lang as retweet_lang', 'retweeted_status.place.country as retweet_country', \n",
    "#                          'retweeted_status.place.country_code as retweeted_country_code', 'retweeted_status.place.name as retweet_place_name', 'retweeted_status.quoted_status retweet_quoted', 'retweeted_status.retweet_count as retweet_retweeted_count', 'retweeted_status.retweeted as retweet_retweeted', \n",
    "#                          'retweeted_status.text as retweet_text', 'retweeted_status.user.id as retweet_user_id', 'retweeted_status.user.followers_count as retweeted_status_followers_count', 'retweeted_status.user.name as retweet_user_name', 'retweeted_status.user.lang as retweet_user_lang', \n",
    "#                          'retweeted_status.user.screen_name as retweet_screen_name', 'quoted_status as tweet_quoted', 'quoted_status.contributors as quoted_status_contributors', 'source', 'text', \n",
    "#                          'timestamp_ms', 'truncated', 'user.created_at as user_created_at', 'user.description', 'user.favourites_count', 'user.follow_request_sent', 'user.followers_count as user_followers_count', 'user.following', 'user.friends_count', \n",
    "#                          'user.geo_enabled as user_geo_enabled', 'user.id as user_id', 'user.is_translator as user_is_translator', 'user.lang as user_lang', 'user.listed_count as user_listed_count', 'user.location as user_location', 'user.name as user_name', 'user.notifications as user_notifications', 'user.screen_name as user_screen_name', 'user.time_zone as user_time_zone', \n",
    "#                          'user.url as user_url', 'user.utc_offset as user_utc_offset', 'user.verified as user_verified'])\n",
    "\n",
    "# mydf.limit(1)"
   ]
  },
  {
   "cell_type": "markdown",
   "metadata": {},
   "source": [
    "### Using test data, I've removed features where value is null for >95% of the records"
   ]
  },
  {
   "cell_type": "code",
   "execution_count": 12,
   "metadata": {},
   "outputs": [],
   "source": [
    "# df_agg = mydf.agg(*[F.count(F.when(F.isnull(c), c)).alias(c) for c in mydf.columns]).toPandas().T"
   ]
  },
  {
   "cell_type": "code",
   "execution_count": 13,
   "metadata": {},
   "outputs": [
    {
     "data": {
      "text/html": [
       "<div>\n",
       "<style scoped>\n",
       "    .dataframe tbody tr th:only-of-type {\n",
       "        vertical-align: middle;\n",
       "    }\n",
       "\n",
       "    .dataframe tbody tr th {\n",
       "        vertical-align: top;\n",
       "    }\n",
       "\n",
       "    .dataframe thead th {\n",
       "        text-align: right;\n",
       "    }\n",
       "</style>\n",
       "<table border=\"1\" class=\"dataframe\">\n",
       "  <thead>\n",
       "    <tr style=\"text-align: right;\">\n",
       "      <th></th>\n",
       "      <th>contributors1</th>\n",
       "      <th>tweet_coordinates</th>\n",
       "      <th>tweet_created_at</th>\n",
       "      <th>tweet_hashtags</th>\n",
       "      <th>media_type</th>\n",
       "      <th>media_url</th>\n",
       "      <th>user_mentions</th>\n",
       "      <th>tweet_favorite_count</th>\n",
       "      <th>tweet_favorited</th>\n",
       "      <th>tweet_geo_coordinates</th>\n",
       "      <th>tweet_id</th>\n",
       "      <th>original_screen_name</th>\n",
       "      <th>original_tweet_id</th>\n",
       "      <th>is_quote_status</th>\n",
       "      <th>tweet_lang</th>\n",
       "      <th>reply_coordinates</th>\n",
       "      <th>tweet_country</th>\n",
       "      <th>tweet_country_code</th>\n",
       "      <th>tweet_place_name</th>\n",
       "      <th>possibly_sensitive</th>\n",
       "      <th>quoted_hastags</th>\n",
       "      <th>retweet_count</th>\n",
       "      <th>retweeted</th>\n",
       "      <th>retweeted_status</th>\n",
       "      <th>retweeted_coordinates</th>\n",
       "      <th>entities</th>\n",
       "      <th>retweeted_status_hashtags</th>\n",
       "      <th>retweeted_status_contributors</th>\n",
       "      <th>retweet_coordinates</th>\n",
       "      <th>retweet_created_at</th>\n",
       "      <th>full_text</th>\n",
       "      <th>retweet_favorited_count</th>\n",
       "      <th>retweet_favorited</th>\n",
       "      <th>retweet_id</th>\n",
       "      <th>retweet_lang</th>\n",
       "      <th>retweet_country</th>\n",
       "      <th>retweeted_country_code</th>\n",
       "      <th>retweet_place_name</th>\n",
       "      <th>retweet_quoted</th>\n",
       "      <th>retweet_retweeted_count</th>\n",
       "      <th>retweet_retweeted</th>\n",
       "      <th>retweet_text</th>\n",
       "      <th>retweet_user_id</th>\n",
       "      <th>retweeted_status_followers_count</th>\n",
       "      <th>retweet_user_name</th>\n",
       "      <th>retweet_user_lang</th>\n",
       "      <th>retweet_screen_name</th>\n",
       "      <th>tweet_quoted</th>\n",
       "      <th>quoted_status_contributors</th>\n",
       "      <th>source</th>\n",
       "      <th>text</th>\n",
       "      <th>timestamp_ms</th>\n",
       "      <th>truncated</th>\n",
       "      <th>user_created_at</th>\n",
       "      <th>description</th>\n",
       "      <th>favourites_count</th>\n",
       "      <th>follow_request_sent</th>\n",
       "      <th>user_followers_count</th>\n",
       "      <th>following</th>\n",
       "      <th>friends_count</th>\n",
       "      <th>user_geo_enabled</th>\n",
       "      <th>user_id</th>\n",
       "      <th>user_is_translator</th>\n",
       "      <th>user_lang</th>\n",
       "      <th>user_listed_count</th>\n",
       "      <th>user_location</th>\n",
       "      <th>user_name</th>\n",
       "      <th>user_notifications</th>\n",
       "      <th>user_screen_name</th>\n",
       "      <th>user_time_zone</th>\n",
       "      <th>user_url</th>\n",
       "      <th>user_utc_offset</th>\n",
       "      <th>user_verified</th>\n",
       "    </tr>\n",
       "  </thead>\n",
       "  <tbody>\n",
       "    <tr>\n",
       "      <th>Percent</th>\n",
       "      <td>1.0</td>\n",
       "      <td>0.979798</td>\n",
       "      <td>0.0</td>\n",
       "      <td>0.0</td>\n",
       "      <td>0.888889</td>\n",
       "      <td>0.888889</td>\n",
       "      <td>0.0</td>\n",
       "      <td>0.0</td>\n",
       "      <td>0.0</td>\n",
       "      <td>0.979798</td>\n",
       "      <td>0.0</td>\n",
       "      <td>0.919192</td>\n",
       "      <td>0.929293</td>\n",
       "      <td>0.0</td>\n",
       "      <td>0.0</td>\n",
       "      <td>0.959596</td>\n",
       "      <td>0.959596</td>\n",
       "      <td>0.959596</td>\n",
       "      <td>0.959596</td>\n",
       "      <td>0.353535</td>\n",
       "      <td>0.949495</td>\n",
       "      <td>0.0</td>\n",
       "      <td>0.0</td>\n",
       "      <td>0.727273</td>\n",
       "      <td>1.0</td>\n",
       "      <td>0.727273</td>\n",
       "      <td>0.727273</td>\n",
       "      <td>1.0</td>\n",
       "      <td>1.0</td>\n",
       "      <td>0.727273</td>\n",
       "      <td>0.89899</td>\n",
       "      <td>0.727273</td>\n",
       "      <td>0.727273</td>\n",
       "      <td>0.727273</td>\n",
       "      <td>0.727273</td>\n",
       "      <td>0.989899</td>\n",
       "      <td>0.989899</td>\n",
       "      <td>0.989899</td>\n",
       "      <td>0.989899</td>\n",
       "      <td>0.727273</td>\n",
       "      <td>0.727273</td>\n",
       "      <td>0.727273</td>\n",
       "      <td>0.727273</td>\n",
       "      <td>0.727273</td>\n",
       "      <td>0.727273</td>\n",
       "      <td>0.727273</td>\n",
       "      <td>0.727273</td>\n",
       "      <td>0.949495</td>\n",
       "      <td>1.0</td>\n",
       "      <td>0.0</td>\n",
       "      <td>0.0</td>\n",
       "      <td>0.0</td>\n",
       "      <td>0.0</td>\n",
       "      <td>0.0</td>\n",
       "      <td>0.191919</td>\n",
       "      <td>0.0</td>\n",
       "      <td>1.0</td>\n",
       "      <td>0.0</td>\n",
       "      <td>1.0</td>\n",
       "      <td>0.0</td>\n",
       "      <td>0.0</td>\n",
       "      <td>0.0</td>\n",
       "      <td>0.0</td>\n",
       "      <td>0.0</td>\n",
       "      <td>0.0</td>\n",
       "      <td>0.373737</td>\n",
       "      <td>0.0</td>\n",
       "      <td>1.0</td>\n",
       "      <td>0.0</td>\n",
       "      <td>0.313131</td>\n",
       "      <td>0.484848</td>\n",
       "      <td>0.313131</td>\n",
       "      <td>0.0</td>\n",
       "    </tr>\n",
       "  </tbody>\n",
       "</table>\n",
       "</div>"
      ],
      "text/plain": [
       "         contributors1  tweet_coordinates  tweet_created_at  tweet_hashtags  \\\n",
       "Percent            1.0           0.979798               0.0             0.0   \n",
       "\n",
       "         media_type  media_url  user_mentions  tweet_favorite_count  \\\n",
       "Percent    0.888889   0.888889            0.0                   0.0   \n",
       "\n",
       "         tweet_favorited  tweet_geo_coordinates  tweet_id  \\\n",
       "Percent              0.0               0.979798       0.0   \n",
       "\n",
       "         original_screen_name  original_tweet_id  is_quote_status  tweet_lang  \\\n",
       "Percent              0.919192           0.929293              0.0         0.0   \n",
       "\n",
       "         reply_coordinates  tweet_country  tweet_country_code  \\\n",
       "Percent           0.959596       0.959596            0.959596   \n",
       "\n",
       "         tweet_place_name  possibly_sensitive  quoted_hastags  retweet_count  \\\n",
       "Percent          0.959596            0.353535        0.949495            0.0   \n",
       "\n",
       "         retweeted  retweeted_status  retweeted_coordinates  entities  \\\n",
       "Percent        0.0          0.727273                    1.0  0.727273   \n",
       "\n",
       "         retweeted_status_hashtags  retweeted_status_contributors  \\\n",
       "Percent                   0.727273                            1.0   \n",
       "\n",
       "         retweet_coordinates  retweet_created_at  full_text  \\\n",
       "Percent                  1.0            0.727273    0.89899   \n",
       "\n",
       "         retweet_favorited_count  retweet_favorited  retweet_id  retweet_lang  \\\n",
       "Percent                 0.727273           0.727273    0.727273      0.727273   \n",
       "\n",
       "         retweet_country  retweeted_country_code  retweet_place_name  \\\n",
       "Percent         0.989899                0.989899            0.989899   \n",
       "\n",
       "         retweet_quoted  retweet_retweeted_count  retweet_retweeted  \\\n",
       "Percent        0.989899                 0.727273           0.727273   \n",
       "\n",
       "         retweet_text  retweet_user_id  retweeted_status_followers_count  \\\n",
       "Percent      0.727273         0.727273                          0.727273   \n",
       "\n",
       "         retweet_user_name  retweet_user_lang  retweet_screen_name  \\\n",
       "Percent           0.727273           0.727273             0.727273   \n",
       "\n",
       "         tweet_quoted  quoted_status_contributors  source  text  timestamp_ms  \\\n",
       "Percent      0.949495                         1.0     0.0   0.0           0.0   \n",
       "\n",
       "         truncated  user_created_at  description  favourites_count  \\\n",
       "Percent        0.0              0.0     0.191919               0.0   \n",
       "\n",
       "         follow_request_sent  user_followers_count  following  friends_count  \\\n",
       "Percent                  1.0                   0.0        1.0            0.0   \n",
       "\n",
       "         user_geo_enabled  user_id  user_is_translator  user_lang  \\\n",
       "Percent               0.0      0.0                 0.0        0.0   \n",
       "\n",
       "         user_listed_count  user_location  user_name  user_notifications  \\\n",
       "Percent                0.0       0.373737        0.0                 1.0   \n",
       "\n",
       "         user_screen_name  user_time_zone  user_url  user_utc_offset  \\\n",
       "Percent               0.0        0.313131  0.484848         0.313131   \n",
       "\n",
       "         user_verified  \n",
       "Percent            0.0  "
      ]
     },
     "execution_count": 13,
     "metadata": {},
     "output_type": "execute_result"
    }
   ],
   "source": [
    "# # Print out percentage of columns that are null to help determine which columns to remove. For now, I'll just remove columns that are 80% blank or worse\n",
    "\n",
    "# pd.set_option('display.max_columns', df_agg.shape[0]+1)\n",
    "\n",
    "# dfKeep = df_agg / mydf.count()\n",
    "# dfKeep.columns = ['Percent']\n",
    "# dfKeep.T"
   ]
  },
  {
   "cell_type": "code",
   "execution_count": null,
   "metadata": {},
   "outputs": [],
   "source": [
    "# Selecting only relevant columns that also are at least >80% non-null\n",
    "mydf = tweets_df.selectExpr(['user.id as user_id', 'user.friends_count', 'user.location as user_location', 'user.name as user_name', 'user.screen_name as user_screen_name',\n",
    "    'user.created_at as user_created_at', 'user.description', 'user.favourites_count', 'user.followers_count as user_followers_count',\n",
    "    'favorite_count as tweet_favorite_count', 'id as tweet_id', 'created_at as tweet_created_at','text', 'lang as tweet_lang', \n",
    "    'retweeted_status.retweet_count as retweeted_count','retweeted_status.created_at as retweet_created_at', \n",
    "    'retweeted_status.user.followers_count as retweeted_status_followers_count', 'retweeted_status.user.name as retweet_user_name', 'retweeted_status.user.location as retweet_user_location'])\n",
    "\n",
    "# Adding Tweet text length, as this might be an interesting feature later on, and I'd like to do this while in Spark\n",
    "mydf = mydf.withColumn('length_of_text', F.length('text'))"
   ]
  },
  {
   "cell_type": "code",
   "execution_count": null,
   "metadata": {},
   "outputs": [
    {
     "name": "stdout",
     "output_type": "stream",
     "text": [
      "Done!\n"
     ]
    }
   ],
   "source": [
    "print(\"Done!\")"
   ]
  },
  {
   "cell_type": "code",
   "execution_count": 11,
   "metadata": {},
   "outputs": [
    {
     "data": {
      "text/html": [
       "<table border='1'>\n",
       "<tr><th>user_id</th><th>friends_count</th><th>user_location</th><th>user_name</th><th>user_screen_name</th><th>user_created_at</th><th>description</th><th>favourites_count</th><th>user_followers_count</th><th>tweet_favorite_count</th><th>tweet_id</th><th>tweet_created_at</th><th>text</th><th>tweet_lang</th><th>retweeted_count</th><th>retweet_created_at</th><th>retweeted_status_followers_count</th><th>retweet_user_name</th><th>retweet_user_location</th><th>length_of_text</th></tr>\n",
       "<tr><td>155078285</td><td>2577</td><td>Pine Bluff, Arkansas</td><td>Lake Man</td><td>andyrosebrook</td><td>Sun Jun 13 02:13:...</td><td>Secular humanist ...</td><td>56574</td><td>1554</td><td>0</td><td>877892686513975296</td><td>Thu Jun 22 14:15:...</td><td>RT @ArkansasBlog:...</td><td>en</td><td>1</td><td>Thu Jun 22 14:05:...</td><td>25073</td><td>Arkansas Blog</td><td>Little Rock, AR</td><td>129</td></tr>\n",
       "<tr><td>7159992</td><td>87</td><td>Chicago</td><td>Annie Williams</td><td>annoir</td><td>Fri Jun 29 20:27:...</td><td>Whatever you can ...</td><td>167</td><td>22</td><td>0</td><td>877892684756566016</td><td>Thu Jun 22 14:15:...</td><td>IL Healthcare Tru...</td><td>en</td><td>null</td><td>null</td><td>null</td><td>null</td><td>null</td><td>140</td></tr>\n",
       "<tr><td>827188692766834688</td><td>231</td><td>null</td><td>Indivisible9IL</td><td>indivisible9IL</td><td>Thu Feb 02 16:15:...</td><td>null</td><td>111</td><td>264</td><td>0</td><td>877892686744698882</td><td>Thu Jun 22 14:15:...</td><td>IL Healthcare Tru...</td><td>en</td><td>null</td><td>null</td><td>null</td><td>null</td><td>null</td><td>140</td></tr>\n",
       "<tr><td>831319111414210560</td><td>267</td><td>Illinois, USA</td><td>Indivisible Illinois</td><td>IndivisibleIL</td><td>Tue Feb 14 01:48:...</td><td>Progressive activ...</td><td>1626</td><td>1027</td><td>0</td><td>877892689118715904</td><td>Thu Jun 22 14:15:...</td><td>IL Healthcare Tru...</td><td>en</td><td>null</td><td>null</td><td>null</td><td>null</td><td>null</td><td>140</td></tr>\n",
       "<tr><td>39984598</td><td>960</td><td>null</td><td>ISMG Network News</td><td>ISMG_News</td><td>Thu May 14 12:40:...</td><td>All news #infosec...</td><td>119</td><td>2395</td><td>0</td><td>877892690242936834</td><td>Thu Jun 22 14:15:...</td><td>Day 1 of Chicago ...</td><td>en</td><td>null</td><td>null</td><td>null</td><td>null</td><td>null</td><td>136</td></tr>\n",
       "</table>\n"
      ],
      "text/plain": [
       "+------------------+-------------+--------------------+--------------------+----------------+--------------------+--------------------+----------------+--------------------+--------------------+------------------+--------------------+--------------------+----------+---------------+--------------------+--------------------------------+-----------------+---------------------+--------------+\n",
       "|           user_id|friends_count|       user_location|           user_name|user_screen_name|     user_created_at|         description|favourites_count|user_followers_count|tweet_favorite_count|          tweet_id|    tweet_created_at|                text|tweet_lang|retweeted_count|  retweet_created_at|retweeted_status_followers_count|retweet_user_name|retweet_user_location|length_of_text|\n",
       "+------------------+-------------+--------------------+--------------------+----------------+--------------------+--------------------+----------------+--------------------+--------------------+------------------+--------------------+--------------------+----------+---------------+--------------------+--------------------------------+-----------------+---------------------+--------------+\n",
       "|         155078285|         2577|Pine Bluff, Arkansas|            Lake Man|   andyrosebrook|Sun Jun 13 02:13:...|Secular humanist ...|           56574|                1554|                   0|877892686513975296|Thu Jun 22 14:15:...|RT @ArkansasBlog:...|        en|              1|Thu Jun 22 14:05:...|                           25073|    Arkansas Blog|      Little Rock, AR|           129|\n",
       "|           7159992|           87|             Chicago|      Annie Williams|          annoir|Fri Jun 29 20:27:...|Whatever you can ...|             167|                  22|                   0|877892684756566016|Thu Jun 22 14:15:...|IL Healthcare Tru...|        en|           null|                null|                            null|             null|                 null|           140|\n",
       "|827188692766834688|          231|                null|      Indivisible9IL|  indivisible9IL|Thu Feb 02 16:15:...|                null|             111|                 264|                   0|877892686744698882|Thu Jun 22 14:15:...|IL Healthcare Tru...|        en|           null|                null|                            null|             null|                 null|           140|\n",
       "|831319111414210560|          267|       Illinois, USA|Indivisible Illinois|   IndivisibleIL|Tue Feb 14 01:48:...|Progressive activ...|            1626|                1027|                   0|877892689118715904|Thu Jun 22 14:15:...|IL Healthcare Tru...|        en|           null|                null|                            null|             null|                 null|           140|\n",
       "|          39984598|          960|                null|   ISMG Network News|       ISMG_News|Thu May 14 12:40:...|All news #infosec...|             119|                2395|                   0|877892690242936834|Thu Jun 22 14:15:...|Day 1 of Chicago ...|        en|           null|                null|                            null|             null|                 null|           136|\n",
       "+------------------+-------------+--------------------+--------------------+----------------+--------------------+--------------------+----------------+--------------------+--------------------+------------------+--------------------+--------------------+----------+---------------+--------------------+--------------------------------+-----------------+---------------------+--------------+"
      ]
     },
     "execution_count": 11,
     "metadata": {},
     "output_type": "execute_result"
    }
   ],
   "source": [
    "# mydf.limit(5)"
   ]
  },
  {
   "cell_type": "markdown",
   "metadata": {},
   "source": [
    "## After I've narrowed down only the most important columns in my Spark DataFrame, I'll identify tweets related to UChicago and 3 universities of your choice that have sufficient tweeter activity.\n",
    "\n",
    "I'm doing it in this order because this filtering actually requires an action against the dataframe, so by selecting only relevant columns first, this will be much more efficient."
   ]
  },
  {
   "cell_type": "markdown",
   "metadata": {},
   "source": [
    "I'm pulling tweets for uChicago (inclusive of sister schools), Northwestern, Harvard, and Yale. In this case, I wanted to choose other highly-ranked schools that have both undergrad and graduate programs of similar caliber"
   ]
  },
  {
   "cell_type": "code",
   "execution_count": 11,
   "metadata": {},
   "outputs": [],
   "source": [
    "# Building out phrase list for uChicago\n",
    "# uChicagoPresidentDeansDirectorsStaff = ['Robert J. Zimmer', 'Robert Zimmer', 'Zimmer', 'Ka Yee C. Lee', 'Katie Callow-Wright', 'Kenneth S. Polonsky', 'Kenneth Polonsky', 'Lori Berko', 'Derek R. B. Douglas', 'Derek Douglas', 'Sharon Marine', 'James G. Nondorf', 'James Nondorf', 'Juan de Pablo', 'Paul Rand', 'Michele Rasmussen', 'Ivan Samstein', 'Mark A. Schmid', 'Mark Schmid', 'Kim Taylor', 'Katherine Baicker', 'John W. Boyer', 'John Boyer', 'Deborah Gorman-Smith', 'Thomas J. Miles', 'David Nirenberg', 'Angela V. Olinto', 'Angela Olinto', 'Emily Lynn Osborn', 'Emily Osborn', 'Kenneth S. Polonsky', 'Kenneth Polonsky', 'Madhav V. Rajan', 'Madhav Rajan', 'Anne Walters Robertson', 'Anne Robertson', 'Matthew Tirrell', 'Amanda Woodward', 'Paul Kearns', 'Nigel Lockyer', 'Nipam Patel', 'Bridget Allen', 'Alice J. McLean', 'Becky Rhode', 'Camille Morgan', 'Courtney Davis Curtis', 'Dee Steppes', 'Duane Davis', 'Leigh Breslau ', 'Linda McLarnan', 'Maria Romanucci', 'Mark Brokenshire', 'Marlena Harmon', 'Megan Harris', 'Nicholas Moore', 'Ruth OBrien', 'Sidra Malik', 'Susan Huie', 'Susan Popa', 'Toniann Liotta', 'Tracy McCabe','A.B. Yehoshua ', 'A.K. Ramanujan ', 'Aaron Director ', 'Abraham Adrian Albert', 'Adam Zagajewski ', 'Akira Iriye ', 'Albert A. Michelson ', 'Albert J. Libchaber ', 'Albert Rees ', 'Albert Wohlstetter ', 'Alberto Calderón ', 'Alexander A. Beilinson', 'Alexander Razborov ', 'Alfred Radcliffe-Brown ', 'Allan Bloom ', 'Amy Judith Kass ', 'André Weil ', 'Andrei Okounkov ', 'Andrew M. Davis ', 'Anthony Kenny ', 'Antoni Zygmund ', 'Antonin Scalia ', 'Arjun Appadurai ', 'Arnaldo Momigliano ', 'Arnold Davidson ', 'Arthur Byron Coble', 'Arthur Compton ', 'Barack Obama ', 'Bernadotte E. Schmitt ', 'Bernard Roizman ', 'Bertrand Russell ', 'Bruce Cumings ', 'Bruce Lahn ', 'Bruce Lincoln ', 'Burton Dreben ', 'Carl Rogers ', 'Carlos E.M. Wagner ', 'Cass Sunstein ', 'Charles Edward Merriam ', 'Charles Fefferman ', 'Charles Hartshorne ', 'Charles Larmore ', 'Chauncy Harris ', 'Chicago School of literary criticism', 'Chris Blattman ', 'Christian K. Wedemeyer ', 'Chuan He ', 'Clemens C. J. Roothaan ', 'Clifford Ando ', 'Clifford Geertz ', 'Clyde A. Hutchison Jr.', 'Constantin Fasolt ', 'Cornell Fleischer ', 'Dali Yang ', 'Daniel Boorstin ', 'Daniel Friedan ', 'Daniel Quillen ', 'Daniel Sulmasy ', 'Danielle Allen ', 'Daryl Hine ', 'David Bevington ', 'David E. Wellbery ', 'David M. Schneider ', 'David Nirenberg ', 'David Pingree ', 'David Tracy ', 'Diane Wood ', 'Dipesh Chakrabarty ', 'Donald Bogue ', 'Donald Davidson ', 'Douglas Baird ', 'E. H. Moore', 'Edward F. Wente ', 'Edward Sapir ', 'Edward Teller ', 'Edward W. Kolb ', 'Edwin Hubble ', 'Efim Zelmanov ', 'Eleanor Wilner ', 'Elena Kagan ', 'Enrico Fermi ', 'Eric McKitrick ', 'Ernest Lawrence ', 'Eugene Parker ', 'Evelyn M. Kitagawa ', 'Fay-Cooper Cole ', 'Florence B. Seibert ', 'Francesca Rochberg ', 'Frank Easterbrook ', 'Frank Rattray Lillie ', 'Frank Reynolds', 'Frank Wilczek ', 'Fred Donner ', 'Fred M. Donner ', 'Frederic Thrasher ', 'Frederick A. de Armas ', 'Friedrich Hayek ', 'Gary Becker ', 'Geoffrey R. Stone ', 'George Ellery Hale ', 'George Glauberman', 'George Herbert Mead ', 'George Stigler ', 'Gerald Graff ', 'Gerhard Casper ', 'Gerhard Herzberg ', 'Gil Stein ', 'Gilbert Ames Bliss', 'Greg Lawler', 'Gustave E. von Grunebaum ', 'Hannah Arendt ', 'Hans Joas ', 'Hans Küng ', 'Hans Morgenthau ', 'Hans Rothfels ', 'Harold Lasswell ', 'Harold Pollack ', 'Harold Urey ', 'Henry A. Gleason ', 'Henry Paulson ', 'Herrlee G. Creel ', 'Homi K. Bhabha ', 'Howard Taylor Ricketts ', 'Ian Foster', 'Iñigo Manglano-Ovalle ', 'Ioan P. Culianu ', 'Iris Marion Young ', 'Irving Kaplansky', 'Irving Segal', 'Israel Herstein', 'J. A. B. van Buitenen ', 'J. Peter May ', 'Jacob Marschak ', 'Jacqueline Stewart ', 'James A. Robinson ', 'James Boyd White ', 'James Franck ', 'James Hartle ', 'James Hayden Tufts ', 'James Heckman ', 'James Henry Breasted ', 'James M. Redfield ', 'James R. Lawler ', 'James Westfall Thompson ', 'Jan Chiapusso ', 'Jan E. Goldstein ', 'Janet Johnson ', 'Jean-Luc Marion ', 'Jerry Coyne ', 'Jessica Stockholder ', 'Joachim Wach ', 'John A. List ', 'John Carlstrom ', 'John Dewey ', 'John Eaton ', 'John Haugeland ', 'John Hope Franklin ', 'John Hope Franklin ', 'John Keith Moffat ', 'John L. Kelley', 'John Leonard Clive', 'John Maxwell Coetzee ', 'John Mearsheimer ', 'John T. Cacioppo ', 'John W. Boyer ', 'John Woods ', 'Jonathan Lear ', 'Jonathan M. Hall ', 'Joseph Edward Mayer', 'Joseph Kitagawa ', 'Joseph Lykken ', 'K. Aslihan Yener ', 'Karen Uhlenbeck ', 'Karin Knorr-Cetina ', 'Karl Freed ', 'Karl Lashley ', 'Karl Llewellyn ', 'Karl Weintraub ', 'Katherine Baicker ', 'Kenneth Burke ', 'Kenneth Prewitt ', 'Lanny D. Schmidt', 'Lars Hörmander ', 'László Babai ', 'Lauren Berlant ', 'Lawrence Kohlberg ', 'Leela Gandhi ', 'Leo Strauss ', 'Leonard Bloomfield ', 'Leonard Eugene Dickson ', 'Leszek Kołakowski ', 'Lorraine Daston ', 'Lucy Graves Taliaferro', 'Luis Caffarelli ', 'Marcela Carena ', 'Maria Goeppert-Mayer ', 'Maria Spiropulu ', 'Mark Lilla ', 'Mark Siegler ', 'Mark Strand ', 'Marshall G. S. Hodgson ', 'Marshall Sahlins ', 'Marshall Stone', 'Martha McClintock ', 'Martha Nussbaum ', 'Martha Nussbaum ', 'Martha Roth ', 'Martin Kreitman ', 'Martin Marty', 'Matthew Gentzkow ', 'Matthew Stolper ', 'Maynard C. Krueger ', 'Merton H. Miller ', 'Michael Dickinson ', 'Michael H. Schill ', 'Michael S. Turner ', 'Michael Schudson ', 'Michael Silverstein ', 'Michael W. McConnell ', 'Miguel Civil ', 'Milton Friedman ', 'Mircea Eliade ', 'Morton A. Kaplan ', 'Murray Gell-Mann ', 'Muzaffar Alam ', 'Myrtle Bachelder ', 'Naomi Weisstein ', 'Nathaniel Kleitman ', 'Ngô Bảo Châu ', 'Noel Swerdlow ', 'Norman Golb ', 'Norman Maclean ', 'Norman Steenrod ', 'Ole J. Kleppa ', 'Olufunmilayo Olopade ', 'Oskar Bolza', 'Otto Struve ', 'Paul Halmos ', 'Paul Johannes Tillich ', 'Paul Meier ', 'Paul Ricoeur ', 'Paul Sally ', 'Paul Sigler ', 'Peter Dorman ', 'Peter White ', 'Philip Gossett ', 'R. Stephen Berry ', 'Raghuram Rajan', 'Ralph Buchsbaum ', 'Ralph Ellison ', 'Ralph Shapey ', 'Ramón A. Gutiérrez ', 'Raphael Carl Lee ', 'Raven I. McDavid Jr.', 'Richard Epstein ', 'Richard H. Helmholz ', 'Richard Lewontin ', 'Richard Posner ', 'Richard Shweder ', 'Richard T. Antoun ', 'Robert B. Pippin ', 'Robert Bartlett ', 'Robert E. Park ', 'Robert Fogel ', 'Robert K. Ritner ', 'Robert Lee Moore', 'Robert Lucas Jr. ', 'Robert M. Wald ', 'Robert Millikan ', 'Robert Pape ', 'Robert Pinsky ', 'Robert Redfield ', 'Robert S. Mulliken ', 'Robert Soare ', 'Roberta Cooper Ramo ', 'Roger Ebert ', 'Ronald Coase ', 'Ronald Coase ', 'Ronald Wilbert Harris ', 'Rudolf Carnap ', 'Russell Tuttle ', 'Saskia Sassen ', 'Saul Bellow ', 'Saunders Mac Lane ', 'Savas Dimopoulos ', 'Sean M. Carroll ', 'Serge Lang', 'Sewall Wright ', 'Shadi Bartsch ', 'Shannon Lee Dawdy ', 'Sheila Fitzpatrick ', 'Shiing-shen Chern ', 'Shulamit Ran ', 'Stanley Cavell ', 'Stanley Elkins ', 'Stanley Jeyaraja Tambiah ', 'Stephen Shenker ', 'Stephen Smale ', 'Stephen Walt ', 'Steven Levitt ', 'Stuart Rice ', 'Subrahmanyan Chandrasekhar ', 'Susan Gal ', 'Susan Goldin-Meadow ', 'Susan L. Cohn ', 'T. Theodore Fujita ', 'T.S. Eliot ', 'Theda Skocpol ', 'Theodore O. Yntema ', 'Thomas C. Holt ', 'Thomas Chrowder Chamberlin ', 'Thomas Pavel ', 'Thornton Wilder ', 'Thorstein Veblen ', 'Victor Ginzburg ', 'Victor Turner ', 'Vivian Paley ', 'Vladimir Drinfeld ', 'Walter Blair ', 'Walter Kaegi ', 'Walter Kaegi ', 'Walter Lewis Baily Jr.', 'Warder Clyde Allee ', 'Wayne C. Booth ', 'Wendy Doniger ', 'William Hardy McNeill ', 'William I. Thomas ', 'William Julius Wilson ', 'William Lawvere ', 'William R. Polk ', 'Yoichiro Nambu ', 'Zonia Baber ']\n",
    "\n",
    "# Pulling these separately for sister schools 1) because the number of rows were too large on the full dataset, and 2) to keep these separate in case I just want to keep the focus generally on tweets about the universities instead of specific sub-schools\n",
    "uChicagoSchools = ['booth', 'Chicago School of literary criticism', 'Argonne National Laboratory', 'Argonne', 'Biological Sciences Division', 'BSD', 'The University of Chicago Booth School of Business', 'The College Crown Family School of Social Work, Policy, and Practice', 'Divinity School', 'Graham School of Continuing Liberal and Professional Studies', 'Graham school', 'The University of Chicago Harris School of Public Policy Studies', 'harris school', 'chicago harris', 'The University of Chicago Law School', 'University of Chicago Law', 'Oriental Institute', 'Physical Sciences Division', 'PSD', 'Pritzker School of Medicine', 'PSM', 'Pritzker School of Molecular Engineering', 'PSME', 'Social Sciences Division', 'PSD', 'AWH', 'Vogel Lab', 'Vogel']\n",
    "\n",
    "# Building out phrase list for uChicago\n",
    "uChicago = ['uchicago.edu','uc','uofc','graham','uchicago', 'university of chicago', 'uchicagolaw', 'Phil the Phoenix', 'maroons', 'chicago maroons']\n",
    "NW = ['Northwestern', 'Northwestern University']\n",
    "Harvard = ['Harvard', 'Harvard University']\n",
    "Yale = ['Yale', 'Yale University']\n",
    "\n",
    "phrases = uChicago\n",
    "phrasesBroad = uChicagoSchools\n",
    "\n",
    "phrases = list(map(lambda x:x.lower(),phrases))\n",
    "phrasesNW = list(map(lambda x:x.lower(),NW))\n",
    "phrasesHarvard = list(map(lambda x:x.lower(),Harvard))\n",
    "phrasesYale = list(map(lambda x:x.lower(),Yale))\n",
    "phrasesBroad = list(map(lambda x:x.lower(),phrasesBroad))"
   ]
  },
  {
   "cell_type": "code",
   "execution_count": 12,
   "metadata": {},
   "outputs": [],
   "source": [
    "pd.set_option('display.max_colwidth', None)\n",
    "\n",
    "relevantTweets = mydf\n",
    "relevantTweets = relevantTweets.withColumn('text', lower(relevantTweets['text']))\n",
    "relevantTweets = relevantTweets.filter(col('text').rlike('(^|\\s)(' + '|'.join(phrases) + ')(\\s|$)'))\n",
    "\n",
    "# NW\n",
    "relevantTweetsNW = mydf\n",
    "relevantTweetsNW = relevantTweetsNW.withColumn('text', lower(relevantTweetsNW['text']))\n",
    "relevantTweetsNW = relevantTweetsNW.filter(col('text').rlike('(^|\\s)(' + '|'.join(phrasesNW) + ')(\\s|$)'))\n",
    "\n",
    "# Harvard\n",
    "relevantTweetsHarvard = mydf\n",
    "relevantTweetsHarvard = relevantTweetsHarvard.withColumn('text', lower(relevantTweetsHarvard['text']))\n",
    "relevantTweetsHarvard = relevantTweetsHarvard.filter(col('text').rlike('(^|\\s)(' + '|'.join(phrasesHarvard) + ')(\\s|$)'))\n",
    "\n",
    "# Yale\n",
    "relevantTweetsYale = mydf\n",
    "relevantTweetsYale = relevantTweetsYale.withColumn('text', lower(relevantTweetsYale['text']))\n",
    "relevantTweetsYale = relevantTweetsYale.filter(col('text').rlike('(^|\\s)(' + '|'.join(phrasesYale) + ')(\\s|$)'))\n",
    "\n",
    "# Broad\n",
    "relevantTweetsBroad = mydf\n",
    "relevantTweetsBroad = relevantTweetsBroad.withColumn('text', lower(relevantTweetsBroad['text']))\n",
    "relevantTweetsBroad = relevantTweetsBroad.filter(col('text').rlike('(^|\\s)(' + '|'.join(phrasesBroad) + ')(\\s|$)'))"
   ]
  },
  {
   "cell_type": "code",
   "execution_count": null,
   "metadata": {},
   "outputs": [
    {
     "data": {
      "text/plain": [
       "534295"
      ]
     },
     "execution_count": 10,
     "metadata": {},
     "output_type": "execute_result"
    }
   ],
   "source": [
    "relevantTweets.count()"
   ]
  },
  {
   "cell_type": "code",
   "execution_count": null,
   "metadata": {},
   "outputs": [
    {
     "data": {
      "text/plain": [
       "1975721"
      ]
     },
     "execution_count": 11,
     "metadata": {},
     "output_type": "execute_result"
    }
   ],
   "source": [
    "relevantTweetsNW.count()"
   ]
  },
  {
   "cell_type": "code",
   "execution_count": null,
   "metadata": {},
   "outputs": [],
   "source": [
    "relevantTweetsHarvard.count()"
   ]
  },
  {
   "cell_type": "code",
   "execution_count": null,
   "metadata": {},
   "outputs": [],
   "source": [
    "relevantTweetsYale.count()"
   ]
  },
  {
   "cell_type": "code",
   "execution_count": null,
   "metadata": {},
   "outputs": [],
   "source": [
    "relevantTweetsBroad.count()"
   ]
  },
  {
   "cell_type": "code",
   "execution_count": 40,
   "metadata": {},
   "outputs": [
    {
     "data": {
      "text/html": [
       "<table border='1'>\n",
       "<tr><th>tweet_created_at</th><th>user_mentions</th><th>tweet_favorite_count</th><th>tweet_favorited</th><th>tweet_id</th><th>is_quote_status</th><th>tweet_lang</th><th>retweet_count</th><th>retweeted</th><th>retweeted_status_contributors</th><th>retweet_created_at</th><th>retweet_id</th><th>retweet_lang</th><th>retweet_quoted</th><th>retweet_retweeted_count</th><th>retweet_retweeted</th><th>retweet_text</th><th>retweet_user_id</th><th>retweeted_status_followers_count</th><th>retweet_user_name</th><th>retweet_screen_name</th><th>source</th><th>text</th><th>timestamp_ms</th><th>truncated</th><th>user_created_at</th><th>description</th><th>favourites_count</th><th>user_followers_count</th><th>friends_count</th><th>user_id</th><th>user_is_translator</th><th>user_listed_count</th><th>user_location</th><th>user_name</th><th>user_screen_name</th><th>user_url</th><th>user_verified</th><th>length_of_text</th></tr>\n",
       "<tr><td>Thu Jun 22 14:16:...</td><td>[[16664681, 16664...</td><td>0</td><td>false</td><td>877892987727912960</td><td>false</td><td>en</td><td>0</td><td>false</td><td>null</td><td>null</td><td>null</td><td>null</td><td>null</td><td>null</td><td>null</td><td>null</td><td>null</td><td>null</td><td>null</td><td>null</td><td>&lt;a href=&quot;http://t...</td><td>@latimes @latimes...</td><td>1498140973394</td><td>true</td><td>Fri Mar 07 05:59:...</td><td>Conservatarian. B...</td><td>1847</td><td>71</td><td>250</td><td>2376648480</td><td>false</td><td>3</td><td>null</td><td>Elephant in room</td><td>dzmanliberty</td><td>null</td><td>false</td><td>139</td></tr>\n",
       "</table>\n"
      ],
      "text/plain": [
       "+--------------------+--------------------+--------------------+---------------+------------------+---------------+----------+-------------+---------+-----------------------------+------------------+----------+------------+--------------+-----------------------+-----------------+------------+---------------+--------------------------------+-----------------+-------------------+--------------------+--------------------+-------------+---------+--------------------+--------------------+----------------+--------------------+-------------+----------+------------------+-----------------+-------------+----------------+----------------+--------+-------------+--------------+\n",
       "|    tweet_created_at|       user_mentions|tweet_favorite_count|tweet_favorited|          tweet_id|is_quote_status|tweet_lang|retweet_count|retweeted|retweeted_status_contributors|retweet_created_at|retweet_id|retweet_lang|retweet_quoted|retweet_retweeted_count|retweet_retweeted|retweet_text|retweet_user_id|retweeted_status_followers_count|retweet_user_name|retweet_screen_name|              source|                text| timestamp_ms|truncated|     user_created_at|         description|favourites_count|user_followers_count|friends_count|   user_id|user_is_translator|user_listed_count|user_location|       user_name|user_screen_name|user_url|user_verified|length_of_text|\n",
       "+--------------------+--------------------+--------------------+---------------+------------------+---------------+----------+-------------+---------+-----------------------------+------------------+----------+------------+--------------+-----------------------+-----------------+------------+---------------+--------------------------------+-----------------+-------------------+--------------------+--------------------+-------------+---------+--------------------+--------------------+----------------+--------------------+-------------+----------+------------------+-----------------+-------------+----------------+----------------+--------+-------------+--------------+\n",
       "|Thu Jun 22 14:16:...|[[16664681, 16664...|                   0|          false|877892987727912960|          false|        en|            0|    false|                         null|              null|      null|        null|          null|                   null|             null|        null|           null|                            null|             null|               null|<a href=\"http://t...|@latimes @latimes...|1498140973394|     true|Fri Mar 07 05:59:...|Conservatarian. B...|            1847|                  71|          250|2376648480|             false|                3|         null|Elephant in room|    dzmanliberty|    null|        false|           139|\n",
       "+--------------------+--------------------+--------------------+---------------+------------------+---------------+----------+-------------+---------+-----------------------------+------------------+----------+------------+--------------+-----------------------+-----------------+------------+---------------+--------------------------------+-----------------+-------------------+--------------------+--------------------+-------------+---------+--------------------+--------------------+----------------+--------------------+-------------+----------+------------------+-----------------+-------------+----------------+----------------+--------+-------------+--------------+"
      ]
     },
     "execution_count": 40,
     "metadata": {},
     "output_type": "execute_result"
    }
   ],
   "source": [
    "# relevantTweets.limit(1)"
   ]
  },
  {
   "cell_type": "markdown",
   "metadata": {},
   "source": [
    "### Export to CSVs for further analysis in Midway"
   ]
  },
  {
   "cell_type": "code",
   "execution_count": null,
   "metadata": {},
   "outputs": [],
   "source": [
    "# #Test writing did not work, so I had to convert to pandas and then export as CSV\n",
    "bucket_write = 'msca-bdp-students-bucket/shared_data/carlson1858'\n",
    "\n",
    "mydf.write.format(\"com.databricks.spark.csv\").\\\n",
    "option(\"header\", \"true\").\\\n",
    "mode('overwrite').\\\n",
    "save('gs://' + bucket_write + '/RelevantTweets.csv')"
   ]
  },
  {
   "cell_type": "code",
   "execution_count": null,
   "metadata": {},
   "outputs": [
    {
     "name": "stdout",
     "output_type": "stream",
     "text": [
      "CPU times: user 17 s, sys: 800 ms, total: 17.8 s\n",
      "Wall time: 24min 47s\n"
     ]
    }
   ],
   "source": [
    "# uChicago\n",
    "%time relevantTweets.toPandas().to_csv('gs://msca-bdp-students-bucket/shared_data/carlson1858/RelevantTweetsFinalvFINAL.csv')"
   ]
  },
  {
   "cell_type": "code",
   "execution_count": null,
   "metadata": {},
   "outputs": [
    {
     "name": "stdout",
     "output_type": "stream",
     "text": [
      "CPU times: user 4.07 s, sys: 187 ms, total: 4.26 s\n",
      "Wall time: 24min 55s\n"
     ]
    }
   ],
   "source": [
    "# uChicago broad sweep\n",
    "%time relevantTweetsBroad.toPandas().to_csv('gs://msca-bdp-students-bucket/shared_data/carlson1858/RelevantTweetsBroaderFinal.csv')"
   ]
  },
  {
   "cell_type": "code",
   "execution_count": null,
   "metadata": {},
   "outputs": [
    {
     "name": "stdout",
     "output_type": "stream",
     "text": [
      "CPU times: user 1min 2s, sys: 3.13 s, total: 1min 5s\n",
      "Wall time: 25min 13s\n"
     ]
    }
   ],
   "source": [
    "# Northwestern\n",
    "%time relevantTweetsNW.toPandas().to_csv('gs://msca-bdp-students-bucket/shared_data/carlson1858/RelevantTweetsNWFinal.csv')"
   ]
  },
  {
   "cell_type": "code",
   "execution_count": null,
   "metadata": {},
   "outputs": [
    {
     "name": "stderr",
     "output_type": "stream",
     "text": [
      "ERROR:root:Exception while sending command.\n",
      "Traceback (most recent call last):\n",
      "  File \"/usr/lib/spark/python/lib/py4j-0.10.9-src.zip/py4j/java_gateway.py\", line 1207, in send_command\n",
      "    raise Py4JNetworkError(\"Answer from Java side is empty\")\n",
      "py4j.protocol.Py4JNetworkError: Answer from Java side is empty\n",
      "\n",
      "During handling of the above exception, another exception occurred:\n",
      "\n",
      "Traceback (most recent call last):\n",
      "  File \"/usr/lib/spark/python/lib/py4j-0.10.9-src.zip/py4j/java_gateway.py\", line 1033, in send_command\n",
      "    response = connection.send_command(command)\n",
      "  File \"/usr/lib/spark/python/lib/py4j-0.10.9-src.zip/py4j/java_gateway.py\", line 1211, in send_command\n",
      "    raise Py4JNetworkError(\n",
      "py4j.protocol.Py4JNetworkError: Error while receiving\n"
     ]
    },
    {
     "name": "stdout",
     "output_type": "stream",
     "text": [
      "CPU times: user 1min 19s, sys: 3.88 s, total: 1min 22s\n",
      "Wall time: 26min 24s\n"
     ]
    }
   ],
   "source": [
    "# Harvard\n",
    "%time relevantTweetsHarvard.toPandas().to_csv('gs://msca-bdp-students-bucket/shared_data/carlson1858/RelevantTweetsHarvardFinal.csv')"
   ]
  },
  {
   "cell_type": "code",
   "execution_count": null,
   "metadata": {},
   "outputs": [
    {
     "name": "stdout",
     "output_type": "stream",
     "text": [
      "CPU times: user 18.6 s, sys: 854 ms, total: 19.5 s\n",
      "Wall time: 23min 52s\n"
     ]
    }
   ],
   "source": [
    "# Yale\n",
    "%time relevantTweetsYale.toPandas().to_csv('gs://msca-bdp-students-bucket/shared_data/carlson1858/RelevantTweetsYaleFinal.csv')"
   ]
  },
  {
   "cell_type": "code",
   "execution_count": null,
   "metadata": {},
   "outputs": [],
   "source": [
    "print(\"Done\")"
   ]
  },
  {
   "cell_type": "markdown",
   "metadata": {},
   "source": [
    "## Doing the same thing but now with top Twitterers, after running analysis"
   ]
  },
  {
   "cell_type": "code",
   "execution_count": null,
   "metadata": {},
   "outputs": [
    {
     "name": "stdout",
     "output_type": "stream",
     "text": [
      "done\n"
     ]
    }
   ],
   "source": [
    "print(\"done\")"
   ]
  },
  {
   "cell_type": "code",
   "execution_count": null,
   "metadata": {},
   "outputs": [],
   "source": [
    "# Building out phrase list for uChicago\n",
    "# uChicagoPresidentDeansDirectorsStaff = ['Robert J. Zimmer', 'Robert Zimmer', 'Zimmer', 'Ka Yee C. Lee', 'Katie Callow-Wright', 'Kenneth S. Polonsky', 'Kenneth Polonsky', 'Lori Berko', 'Derek R. B. Douglas', 'Derek Douglas', 'Sharon Marine', 'James G. Nondorf', 'James Nondorf', 'Juan de Pablo', 'Paul Rand', 'Michele Rasmussen', 'Ivan Samstein', 'Mark A. Schmid', 'Mark Schmid', 'Kim Taylor', 'Katherine Baicker', 'John W. Boyer', 'John Boyer', 'Deborah Gorman-Smith', 'Thomas J. Miles', 'David Nirenberg', 'Angela V. Olinto', 'Angela Olinto', 'Emily Lynn Osborn', 'Emily Osborn', 'Kenneth S. Polonsky', 'Kenneth Polonsky', 'Madhav V. Rajan', 'Madhav Rajan', 'Anne Walters Robertson', 'Anne Robertson', 'Matthew Tirrell', 'Amanda Woodward', 'Paul Kearns', 'Nigel Lockyer', 'Nipam Patel', 'Bridget Allen', 'Alice J. McLean', 'Becky Rhode', 'Camille Morgan', 'Courtney Davis Curtis', 'Dee Steppes', 'Duane Davis', 'Leigh Breslau ', 'Linda McLarnan', 'Maria Romanucci', 'Mark Brokenshire', 'Marlena Harmon', 'Megan Harris', 'Nicholas Moore', 'Ruth OBrien', 'Sidra Malik', 'Susan Huie', 'Susan Popa', 'Toniann Liotta', 'Tracy McCabe','A.B. Yehoshua ', 'A.K. Ramanujan ', 'Aaron Director ', 'Abraham Adrian Albert', 'Adam Zagajewski ', 'Akira Iriye ', 'Albert A. Michelson ', 'Albert J. Libchaber ', 'Albert Rees ', 'Albert Wohlstetter ', 'Alberto Calderón ', 'Alexander A. Beilinson', 'Alexander Razborov ', 'Alfred Radcliffe-Brown ', 'Allan Bloom ', 'Amy Judith Kass ', 'André Weil ', 'Andrei Okounkov ', 'Andrew M. Davis ', 'Anthony Kenny ', 'Antoni Zygmund ', 'Antonin Scalia ', 'Arjun Appadurai ', 'Arnaldo Momigliano ', 'Arnold Davidson ', 'Arthur Byron Coble', 'Arthur Compton ', 'Barack Obama ', 'Bernadotte E. Schmitt ', 'Bernard Roizman ', 'Bertrand Russell ', 'Bruce Cumings ', 'Bruce Lahn ', 'Bruce Lincoln ', 'Burton Dreben ', 'Carl Rogers ', 'Carlos E.M. Wagner ', 'Cass Sunstein ', 'Charles Edward Merriam ', 'Charles Fefferman ', 'Charles Hartshorne ', 'Charles Larmore ', 'Chauncy Harris ', 'Chicago School of literary criticism', 'Chris Blattman ', 'Christian K. Wedemeyer ', 'Chuan He ', 'Clemens C. J. Roothaan ', 'Clifford Ando ', 'Clifford Geertz ', 'Clyde A. Hutchison Jr.', 'Constantin Fasolt ', 'Cornell Fleischer ', 'Dali Yang ', 'Daniel Boorstin ', 'Daniel Friedan ', 'Daniel Quillen ', 'Daniel Sulmasy ', 'Danielle Allen ', 'Daryl Hine ', 'David Bevington ', 'David E. Wellbery ', 'David M. Schneider ', 'David Nirenberg ', 'David Pingree ', 'David Tracy ', 'Diane Wood ', 'Dipesh Chakrabarty ', 'Donald Bogue ', 'Donald Davidson ', 'Douglas Baird ', 'E. H. Moore', 'Edward F. Wente ', 'Edward Sapir ', 'Edward Teller ', 'Edward W. Kolb ', 'Edwin Hubble ', 'Efim Zelmanov ', 'Eleanor Wilner ', 'Elena Kagan ', 'Enrico Fermi ', 'Eric McKitrick ', 'Ernest Lawrence ', 'Eugene Parker ', 'Evelyn M. Kitagawa ', 'Fay-Cooper Cole ', 'Florence B. Seibert ', 'Francesca Rochberg ', 'Frank Easterbrook ', 'Frank Rattray Lillie ', 'Frank Reynolds', 'Frank Wilczek ', 'Fred Donner ', 'Fred M. Donner ', 'Frederic Thrasher ', 'Frederick A. de Armas ', 'Friedrich Hayek ', 'Gary Becker ', 'Geoffrey R. Stone ', 'George Ellery Hale ', 'George Glauberman', 'George Herbert Mead ', 'George Stigler ', 'Gerald Graff ', 'Gerhard Casper ', 'Gerhard Herzberg ', 'Gil Stein ', 'Gilbert Ames Bliss', 'Greg Lawler', 'Gustave E. von Grunebaum ', 'Hannah Arendt ', 'Hans Joas ', 'Hans Küng ', 'Hans Morgenthau ', 'Hans Rothfels ', 'Harold Lasswell ', 'Harold Pollack ', 'Harold Urey ', 'Henry A. Gleason ', 'Henry Paulson ', 'Herrlee G. Creel ', 'Homi K. Bhabha ', 'Howard Taylor Ricketts ', 'Ian Foster', 'Iñigo Manglano-Ovalle ', 'Ioan P. Culianu ', 'Iris Marion Young ', 'Irving Kaplansky', 'Irving Segal', 'Israel Herstein', 'J. A. B. van Buitenen ', 'J. Peter May ', 'Jacob Marschak ', 'Jacqueline Stewart ', 'James A. Robinson ', 'James Boyd White ', 'James Franck ', 'James Hartle ', 'James Hayden Tufts ', 'James Heckman ', 'James Henry Breasted ', 'James M. Redfield ', 'James R. Lawler ', 'James Westfall Thompson ', 'Jan Chiapusso ', 'Jan E. Goldstein ', 'Janet Johnson ', 'Jean-Luc Marion ', 'Jerry Coyne ', 'Jessica Stockholder ', 'Joachim Wach ', 'John A. List ', 'John Carlstrom ', 'John Dewey ', 'John Eaton ', 'John Haugeland ', 'John Hope Franklin ', 'John Hope Franklin ', 'John Keith Moffat ', 'John L. Kelley', 'John Leonard Clive', 'John Maxwell Coetzee ', 'John Mearsheimer ', 'John T. Cacioppo ', 'John W. Boyer ', 'John Woods ', 'Jonathan Lear ', 'Jonathan M. Hall ', 'Joseph Edward Mayer', 'Joseph Kitagawa ', 'Joseph Lykken ', 'K. Aslihan Yener ', 'Karen Uhlenbeck ', 'Karin Knorr-Cetina ', 'Karl Freed ', 'Karl Lashley ', 'Karl Llewellyn ', 'Karl Weintraub ', 'Katherine Baicker ', 'Kenneth Burke ', 'Kenneth Prewitt ', 'Lanny D. Schmidt', 'Lars Hörmander ', 'László Babai ', 'Lauren Berlant ', 'Lawrence Kohlberg ', 'Leela Gandhi ', 'Leo Strauss ', 'Leonard Bloomfield ', 'Leonard Eugene Dickson ', 'Leszek Kołakowski ', 'Lorraine Daston ', 'Lucy Graves Taliaferro', 'Luis Caffarelli ', 'Marcela Carena ', 'Maria Goeppert-Mayer ', 'Maria Spiropulu ', 'Mark Lilla ', 'Mark Siegler ', 'Mark Strand ', 'Marshall G. S. Hodgson ', 'Marshall Sahlins ', 'Marshall Stone', 'Martha McClintock ', 'Martha Nussbaum ', 'Martha Nussbaum ', 'Martha Roth ', 'Martin Kreitman ', 'Martin Marty', 'Matthew Gentzkow ', 'Matthew Stolper ', 'Maynard C. Krueger ', 'Merton H. Miller ', 'Michael Dickinson ', 'Michael H. Schill ', 'Michael S. Turner ', 'Michael Schudson ', 'Michael Silverstein ', 'Michael W. McConnell ', 'Miguel Civil ', 'Milton Friedman ', 'Mircea Eliade ', 'Morton A. Kaplan ', 'Murray Gell-Mann ', 'Muzaffar Alam ', 'Myrtle Bachelder ', 'Naomi Weisstein ', 'Nathaniel Kleitman ', 'Ngô Bảo Châu ', 'Noel Swerdlow ', 'Norman Golb ', 'Norman Maclean ', 'Norman Steenrod ', 'Ole J. Kleppa ', 'Olufunmilayo Olopade ', 'Oskar Bolza', 'Otto Struve ', 'Paul Halmos ', 'Paul Johannes Tillich ', 'Paul Meier ', 'Paul Ricoeur ', 'Paul Sally ', 'Paul Sigler ', 'Peter Dorman ', 'Peter White ', 'Philip Gossett ', 'R. Stephen Berry ', 'Raghuram Rajan', 'Ralph Buchsbaum ', 'Ralph Ellison ', 'Ralph Shapey ', 'Ramón A. Gutiérrez ', 'Raphael Carl Lee ', 'Raven I. McDavid Jr.', 'Richard Epstein ', 'Richard H. Helmholz ', 'Richard Lewontin ', 'Richard Posner ', 'Richard Shweder ', 'Richard T. Antoun ', 'Robert B. Pippin ', 'Robert Bartlett ', 'Robert E. Park ', 'Robert Fogel ', 'Robert K. Ritner ', 'Robert Lee Moore', 'Robert Lucas Jr. ', 'Robert M. Wald ', 'Robert Millikan ', 'Robert Pape ', 'Robert Pinsky ', 'Robert Redfield ', 'Robert S. Mulliken ', 'Robert Soare ', 'Roberta Cooper Ramo ', 'Roger Ebert ', 'Ronald Coase ', 'Ronald Coase ', 'Ronald Wilbert Harris ', 'Rudolf Carnap ', 'Russell Tuttle ', 'Saskia Sassen ', 'Saul Bellow ', 'Saunders Mac Lane ', 'Savas Dimopoulos ', 'Sean M. Carroll ', 'Serge Lang', 'Sewall Wright ', 'Shadi Bartsch ', 'Shannon Lee Dawdy ', 'Sheila Fitzpatrick ', 'Shiing-shen Chern ', 'Shulamit Ran ', 'Stanley Cavell ', 'Stanley Elkins ', 'Stanley Jeyaraja Tambiah ', 'Stephen Shenker ', 'Stephen Smale ', 'Stephen Walt ', 'Steven Levitt ', 'Stuart Rice ', 'Subrahmanyan Chandrasekhar ', 'Susan Gal ', 'Susan Goldin-Meadow ', 'Susan L. Cohn ', 'T. Theodore Fujita ', 'T.S. Eliot ', 'Theda Skocpol ', 'Theodore O. Yntema ', 'Thomas C. Holt ', 'Thomas Chrowder Chamberlin ', 'Thomas Pavel ', 'Thornton Wilder ', 'Thorstein Veblen ', 'Victor Ginzburg ', 'Victor Turner ', 'Vivian Paley ', 'Vladimir Drinfeld ', 'Walter Blair ', 'Walter Kaegi ', 'Walter Kaegi ', 'Walter Lewis Baily Jr.', 'Warder Clyde Allee ', 'Wayne C. Booth ', 'Wendy Doniger ', 'William Hardy McNeill ', 'William I. Thomas ', 'William Julius Wilson ', 'William Lawvere ', 'William R. Polk ', 'Yoichiro Nambu ', 'Zonia Baber ']\n",
    "\n",
    "# Pulling these separately for sister schools 1) because the number of rows were too large on the full dataset, and 2) to keep these separate in case I just want to keep the focus generally on tweets about the universities instead of specific sub-schools\n",
    "uChicagoInfluencers = ['CyanFour', 'yiizo', 'the_gwella', 'Katja_Thieme', 'YamraaMcNeil']\n",
    "NWInfluencers = ['idekchia', '_nnajib', 'Christian_B56', 'olanaaaaa','Rosenchild']\n",
    "HarvardInfluencers = ['wmzafravelasco', 'raybae689', 'jared_secret', 'JacobG88', 'bz80qrlXkWpoBcT']\n",
    "YaleInfluencers = ['meghanaaa', 'raybae689', 'iambrittania', 'EXFURIBISTA', 'kaylaiko_']\n",
    "\n",
    "iphrasesuChicago = list(map(lambda x:x.lower(),uChicagoInfluencers))\n",
    "iphrasesNW = list(map(lambda x:x.lower(),NWInfluencers))\n",
    "iphrasesHarvard = list(map(lambda x:x.lower(),HarvardInfluencers))\n",
    "iphrasesYale = list(map(lambda x:x.lower(),YaleInfluencers))"
   ]
  },
  {
   "cell_type": "code",
   "execution_count": null,
   "metadata": {},
   "outputs": [],
   "source": [
    "pd.set_option('display.max_colwidth', None)\n",
    "\n",
    "uChicagoInfluencers = mydf\n",
    "uChicagoInfluencers = uChicagoInfluencers.withColumn('user_screen_name', lower(uChicagoInfluencers['user_screen_name']))\n",
    "uChicagoInfluencers = uChicagoInfluencers.filter(col('user_screen_name').rlike('(^|\\s)(' + '|'.join(iphrasesuChicago) + ')(\\s|$)'))\n",
    "\n",
    "# NW\n",
    "NWInfluencers = mydf\n",
    "NWInfluencers = NWInfluencers.withColumn('user_screen_name', lower(NWInfluencers['user_screen_name']))\n",
    "NWInfluencers = NWInfluencers.filter(col('user_screen_name').rlike('(^|\\s)(' + '|'.join(iphrasesNW) + ')(\\s|$)'))\n",
    "\n",
    "# Harvard\n",
    "HarvardInfluencers = mydf\n",
    "HarvardInfluencers = HarvardInfluencers.withColumn('user_screen_name', lower(HarvardInfluencers['user_screen_name']))\n",
    "HarvardInfluencers = HarvardInfluencers.filter(col('user_screen_name').rlike('(^|\\s)(' + '|'.join(iphrasesHarvard) + ')(\\s|$)'))\n",
    "\n",
    "# Yale\n",
    "YaleInfluencers = mydf\n",
    "YaleInfluencers = YaleInfluencers.withColumn('user_screen_name', lower(YaleInfluencers['user_screen_name']))\n",
    "YaleInfluencers = YaleInfluencers.filter(col('user_screen_name').rlike('(^|\\s)(' + '|'.join(iphrasesYale) + ')(\\s|$)'))"
   ]
  },
  {
   "cell_type": "code",
   "execution_count": null,
   "metadata": {},
   "outputs": [
    {
     "name": "stdout",
     "output_type": "stream",
     "text": [
      "CPU times: user 530 ms, sys: 73.5 ms, total: 604 ms\n",
      "Wall time: 21min 53s\n"
     ]
    }
   ],
   "source": [
    "# uChicago\n",
    "%time uChicagoInfluencers.toPandas().to_csv('gs://msca-bdp-students-bucket/shared_data/carlson1858/InfluencersuChicago.csv')"
   ]
  },
  {
   "cell_type": "code",
   "execution_count": null,
   "metadata": {},
   "outputs": [
    {
     "name": "stdout",
     "output_type": "stream",
     "text": [
      "CPU times: user 555 ms, sys: 94.3 ms, total: 649 ms\n",
      "Wall time: 21min 43s\n"
     ]
    }
   ],
   "source": [
    "# Northwestern\n",
    "%time NWInfluencers.toPandas().to_csv('gs://msca-bdp-students-bucket/shared_data/carlson1858/InfluencersNW.csv')"
   ]
  },
  {
   "cell_type": "code",
   "execution_count": null,
   "metadata": {},
   "outputs": [
    {
     "name": "stdout",
     "output_type": "stream",
     "text": [
      "CPU times: user 650 ms, sys: 83.1 ms, total: 733 ms\n",
      "Wall time: 21min 34s\n"
     ]
    }
   ],
   "source": [
    "# Harvard\n",
    "%time HarvardInfluencers.toPandas().to_csv('gs://msca-bdp-students-bucket/shared_data/carlson1858/InfluencersHarvard.csv')"
   ]
  },
  {
   "cell_type": "code",
   "execution_count": null,
   "metadata": {},
   "outputs": [
    {
     "name": "stdout",
     "output_type": "stream",
     "text": [
      "CPU times: user 378 ms, sys: 67.5 ms, total: 446 ms\n",
      "Wall time: 21min 28s\n"
     ]
    }
   ],
   "source": [
    "# Harvard\n",
    "%time YaleInfluencers.toPandas().to_csv('gs://msca-bdp-students-bucket/shared_data/carlson1858/InfluencersYale.csv')"
   ]
  },
  {
   "cell_type": "code",
   "execution_count": null,
   "metadata": {},
   "outputs": [
    {
     "name": "stdout",
     "output_type": "stream",
     "text": [
      "2479\n",
      "13536\n",
      "11475\n",
      "6325\n"
     ]
    }
   ],
   "source": [
    "print(uChicagoInfluencers.count())\n",
    "print(HarvardInfluencers.count())\n",
    "print(NWInfluencers.count())\n",
    "print(YaleInfluencers.count())"
   ]
  }
 ],
 "metadata": {
  "kernelspec": {
   "display_name": "PySpark",
   "language": "python",
   "name": "pyspark"
  },
  "language_info": {
   "codemirror_mode": {
    "name": "ipython",
    "version": 3
   },
   "file_extension": ".py",
   "mimetype": "text/x-python",
   "name": "python",
   "nbconvert_exporter": "python",
   "pygments_lexer": "ipython3",
   "version": "3.8.5"
  }
 },
 "nbformat": 4,
 "nbformat_minor": 4
}